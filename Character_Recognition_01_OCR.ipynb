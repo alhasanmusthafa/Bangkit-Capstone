{
  "nbformat": 4,
  "nbformat_minor": 0,
  "metadata": {
    "colab": {
      "provenance": [],
      "gpuType": "T4",
      "authorship_tag": "ABX9TyOTnasrwqYr9LU2b1lXnXhB"
    },
    "kernelspec": {
      "name": "python3",
      "display_name": "Python 3"
    },
    "language_info": {
      "name": "python"
    },
    "accelerator": "GPU"
  },
  "cells": [
    {
      "cell_type": "code",
      "execution_count": 1,
      "metadata": {
        "id": "SelWsFx5lQoX"
      },
      "outputs": [],
      "source": [
        "from google.colab import files, drive\n",
        "import os\n",
        "from tensorflow.keras.preprocessing.image import img_to_array, load_img, ImageDataGenerator\n",
        "from tensorflow.keras.models import *\n",
        "import zipfile\n",
        "from tensorflow import keras\n",
        "import tensorflow as tf\n",
        "import cv2\n",
        "import numpy as np\n",
        "import matplotlib.pyplot as plt\n"
      ]
    },
    {
      "cell_type": "code",
      "source": [
        "#you need to create your own API first in kaggle\n",
        "#upload kaggle json\n",
        "\n",
        "files.upload()"
      ],
      "metadata": {
        "colab": {
          "base_uri": "https://localhost:8080/",
          "height": 91
        },
        "id": "DDo9bFo2li6o",
        "outputId": "ed992ff4-0c76-4e4b-e100-23ba1bec0262"
      },
      "execution_count": 2,
      "outputs": [
        {
          "output_type": "display_data",
          "data": {
            "text/plain": [
              "<IPython.core.display.HTML object>"
            ],
            "text/html": [
              "\n",
              "     <input type=\"file\" id=\"files-f7df3b89-47b7-4363-bf47-75d996454015\" name=\"files[]\" multiple disabled\n",
              "        style=\"border:none\" />\n",
              "     <output id=\"result-f7df3b89-47b7-4363-bf47-75d996454015\">\n",
              "      Upload widget is only available when the cell has been executed in the\n",
              "      current browser session. Please rerun this cell to enable.\n",
              "      </output>\n",
              "      <script>// Copyright 2017 Google LLC\n",
              "//\n",
              "// Licensed under the Apache License, Version 2.0 (the \"License\");\n",
              "// you may not use this file except in compliance with the License.\n",
              "// You may obtain a copy of the License at\n",
              "//\n",
              "//      http://www.apache.org/licenses/LICENSE-2.0\n",
              "//\n",
              "// Unless required by applicable law or agreed to in writing, software\n",
              "// distributed under the License is distributed on an \"AS IS\" BASIS,\n",
              "// WITHOUT WARRANTIES OR CONDITIONS OF ANY KIND, either express or implied.\n",
              "// See the License for the specific language governing permissions and\n",
              "// limitations under the License.\n",
              "\n",
              "/**\n",
              " * @fileoverview Helpers for google.colab Python module.\n",
              " */\n",
              "(function(scope) {\n",
              "function span(text, styleAttributes = {}) {\n",
              "  const element = document.createElement('span');\n",
              "  element.textContent = text;\n",
              "  for (const key of Object.keys(styleAttributes)) {\n",
              "    element.style[key] = styleAttributes[key];\n",
              "  }\n",
              "  return element;\n",
              "}\n",
              "\n",
              "// Max number of bytes which will be uploaded at a time.\n",
              "const MAX_PAYLOAD_SIZE = 100 * 1024;\n",
              "\n",
              "function _uploadFiles(inputId, outputId) {\n",
              "  const steps = uploadFilesStep(inputId, outputId);\n",
              "  const outputElement = document.getElementById(outputId);\n",
              "  // Cache steps on the outputElement to make it available for the next call\n",
              "  // to uploadFilesContinue from Python.\n",
              "  outputElement.steps = steps;\n",
              "\n",
              "  return _uploadFilesContinue(outputId);\n",
              "}\n",
              "\n",
              "// This is roughly an async generator (not supported in the browser yet),\n",
              "// where there are multiple asynchronous steps and the Python side is going\n",
              "// to poll for completion of each step.\n",
              "// This uses a Promise to block the python side on completion of each step,\n",
              "// then passes the result of the previous step as the input to the next step.\n",
              "function _uploadFilesContinue(outputId) {\n",
              "  const outputElement = document.getElementById(outputId);\n",
              "  const steps = outputElement.steps;\n",
              "\n",
              "  const next = steps.next(outputElement.lastPromiseValue);\n",
              "  return Promise.resolve(next.value.promise).then((value) => {\n",
              "    // Cache the last promise value to make it available to the next\n",
              "    // step of the generator.\n",
              "    outputElement.lastPromiseValue = value;\n",
              "    return next.value.response;\n",
              "  });\n",
              "}\n",
              "\n",
              "/**\n",
              " * Generator function which is called between each async step of the upload\n",
              " * process.\n",
              " * @param {string} inputId Element ID of the input file picker element.\n",
              " * @param {string} outputId Element ID of the output display.\n",
              " * @return {!Iterable<!Object>} Iterable of next steps.\n",
              " */\n",
              "function* uploadFilesStep(inputId, outputId) {\n",
              "  const inputElement = document.getElementById(inputId);\n",
              "  inputElement.disabled = false;\n",
              "\n",
              "  const outputElement = document.getElementById(outputId);\n",
              "  outputElement.innerHTML = '';\n",
              "\n",
              "  const pickedPromise = new Promise((resolve) => {\n",
              "    inputElement.addEventListener('change', (e) => {\n",
              "      resolve(e.target.files);\n",
              "    });\n",
              "  });\n",
              "\n",
              "  const cancel = document.createElement('button');\n",
              "  inputElement.parentElement.appendChild(cancel);\n",
              "  cancel.textContent = 'Cancel upload';\n",
              "  const cancelPromise = new Promise((resolve) => {\n",
              "    cancel.onclick = () => {\n",
              "      resolve(null);\n",
              "    };\n",
              "  });\n",
              "\n",
              "  // Wait for the user to pick the files.\n",
              "  const files = yield {\n",
              "    promise: Promise.race([pickedPromise, cancelPromise]),\n",
              "    response: {\n",
              "      action: 'starting',\n",
              "    }\n",
              "  };\n",
              "\n",
              "  cancel.remove();\n",
              "\n",
              "  // Disable the input element since further picks are not allowed.\n",
              "  inputElement.disabled = true;\n",
              "\n",
              "  if (!files) {\n",
              "    return {\n",
              "      response: {\n",
              "        action: 'complete',\n",
              "      }\n",
              "    };\n",
              "  }\n",
              "\n",
              "  for (const file of files) {\n",
              "    const li = document.createElement('li');\n",
              "    li.append(span(file.name, {fontWeight: 'bold'}));\n",
              "    li.append(span(\n",
              "        `(${file.type || 'n/a'}) - ${file.size} bytes, ` +\n",
              "        `last modified: ${\n",
              "            file.lastModifiedDate ? file.lastModifiedDate.toLocaleDateString() :\n",
              "                                    'n/a'} - `));\n",
              "    const percent = span('0% done');\n",
              "    li.appendChild(percent);\n",
              "\n",
              "    outputElement.appendChild(li);\n",
              "\n",
              "    const fileDataPromise = new Promise((resolve) => {\n",
              "      const reader = new FileReader();\n",
              "      reader.onload = (e) => {\n",
              "        resolve(e.target.result);\n",
              "      };\n",
              "      reader.readAsArrayBuffer(file);\n",
              "    });\n",
              "    // Wait for the data to be ready.\n",
              "    let fileData = yield {\n",
              "      promise: fileDataPromise,\n",
              "      response: {\n",
              "        action: 'continue',\n",
              "      }\n",
              "    };\n",
              "\n",
              "    // Use a chunked sending to avoid message size limits. See b/62115660.\n",
              "    let position = 0;\n",
              "    do {\n",
              "      const length = Math.min(fileData.byteLength - position, MAX_PAYLOAD_SIZE);\n",
              "      const chunk = new Uint8Array(fileData, position, length);\n",
              "      position += length;\n",
              "\n",
              "      const base64 = btoa(String.fromCharCode.apply(null, chunk));\n",
              "      yield {\n",
              "        response: {\n",
              "          action: 'append',\n",
              "          file: file.name,\n",
              "          data: base64,\n",
              "        },\n",
              "      };\n",
              "\n",
              "      let percentDone = fileData.byteLength === 0 ?\n",
              "          100 :\n",
              "          Math.round((position / fileData.byteLength) * 100);\n",
              "      percent.textContent = `${percentDone}% done`;\n",
              "\n",
              "    } while (position < fileData.byteLength);\n",
              "  }\n",
              "\n",
              "  // All done.\n",
              "  yield {\n",
              "    response: {\n",
              "      action: 'complete',\n",
              "    }\n",
              "  };\n",
              "}\n",
              "\n",
              "scope.google = scope.google || {};\n",
              "scope.google.colab = scope.google.colab || {};\n",
              "scope.google.colab._files = {\n",
              "  _uploadFiles,\n",
              "  _uploadFilesContinue,\n",
              "};\n",
              "})(self);\n",
              "</script> "
            ]
          },
          "metadata": {}
        },
        {
          "output_type": "stream",
          "name": "stdout",
          "text": [
            "Saving kaggle.json to kaggle.json\n"
          ]
        },
        {
          "output_type": "execute_result",
          "data": {
            "text/plain": [
              "{'kaggle.json': b'{\"username\":\"alhasanmusthafaa\",\"key\":\"64853a0a23e1b8bfbd2bfc7b3e1f9727\"}'}"
            ]
          },
          "metadata": {},
          "execution_count": 2
        }
      ]
    },
    {
      "cell_type": "code",
      "source": [
        "#create a kaggle folder\n",
        "!mkdir ~/.kaggle\n"
      ],
      "metadata": {
        "id": "uCNumP46lvIL"
      },
      "execution_count": 3,
      "outputs": []
    },
    {
      "cell_type": "code",
      "source": [
        "#copy kaggle.json to folder created\n",
        "!cp kaggle.json ~/.kaggle/\n",
        "\n",
        "#permission for the json to act\n",
        "! chmod 600 ~/.kaggle/kaggle.json"
      ],
      "metadata": {
        "id": "EThiYpjZl3vZ"
      },
      "execution_count": 4,
      "outputs": []
    },
    {
      "cell_type": "code",
      "source": [
        "!kaggle datasets download -d preatcher/standard-ocr-dataset"
      ],
      "metadata": {
        "colab": {
          "base_uri": "https://localhost:8080/"
        },
        "id": "KUZz4Ut8l48t",
        "outputId": "6581ef25-1b67-46de-e71a-5c032ec29f5a"
      },
      "execution_count": 5,
      "outputs": [
        {
          "output_type": "stream",
          "name": "stdout",
          "text": [
            "Downloading standard-ocr-dataset.zip to /content\n",
            " 89% 41.0M/46.2M [00:00<00:00, 63.7MB/s]\n",
            "100% 46.2M/46.2M [00:00<00:00, 66.7MB/s]\n"
          ]
        }
      ]
    },
    {
      "cell_type": "code",
      "source": [
        "test_local_zip = '/content/standard-ocr-dataset.zip'\n",
        "zip_ref = zipfile.ZipFile(test_local_zip, 'r')\n",
        "zip_ref.extractall('/tmp/dataset')\n",
        "\n",
        "zip_ref.close()"
      ],
      "metadata": {
        "id": "Zo8sG7Q0l6Hw"
      },
      "execution_count": 6,
      "outputs": []
    },
    {
      "cell_type": "code",
      "source": [
        "os.listdir('/tmp/dataset')"
      ],
      "metadata": {
        "colab": {
          "base_uri": "https://localhost:8080/"
        },
        "id": "fVMGdeOgl8K2",
        "outputId": "581067ec-258c-450c-8581-4613a4434d31"
      },
      "execution_count": 7,
      "outputs": [
        {
          "output_type": "execute_result",
          "data": {
            "text/plain": [
              "['data', 'data2']"
            ]
          },
          "metadata": {},
          "execution_count": 7
        }
      ]
    },
    {
      "cell_type": "code",
      "source": [
        "source_dir = '/tmp/dataset/data'\n",
        "os.listdir(source_dir)\n",
        "     \n",
        "    "
      ],
      "metadata": {
        "colab": {
          "base_uri": "https://localhost:8080/"
        },
        "id": "nYEcVF5wl9wP",
        "outputId": "fb14e91c-ab56-465c-8ba6-cc3699a225d6"
      },
      "execution_count": 8,
      "outputs": [
        {
          "output_type": "execute_result",
          "data": {
            "text/plain": [
              "['training_data', 'testing_data']"
            ]
          },
          "metadata": {},
          "execution_count": 8
        }
      ]
    },
    {
      "cell_type": "code",
      "source": [
        "training_data_dir = os.path.join(source_dir, 'training_data')\n",
        "validation_data_dir = os.path.join(source_dir, 'testing_data')"
      ],
      "metadata": {
        "id": "1SXflY7el-_m"
      },
      "execution_count": 9,
      "outputs": []
    },
    {
      "cell_type": "code",
      "source": [
        "print('len of folders in training data dir: {}'.format(len(os.listdir(training_data_dir))))\n",
        "print('len of folders in validation data dir: {}'.format(len(os.listdir(validation_data_dir))))"
      ],
      "metadata": {
        "colab": {
          "base_uri": "https://localhost:8080/"
        },
        "id": "ufktPIBrmASB",
        "outputId": "b483f1eb-772c-4382-dea2-058cea3138ac"
      },
      "execution_count": 10,
      "outputs": [
        {
          "output_type": "stream",
          "name": "stdout",
          "text": [
            "len of folders in training data dir: 36\n",
            "len of folders in validation data dir: 36\n"
          ]
        }
      ]
    },
    {
      "cell_type": "code",
      "source": [
        "k = os.listdir(training_data_dir)[0]\n",
        "k = os.path.join(training_data_dir, k)"
      ],
      "metadata": {
        "id": "F-9I8r9omBvI"
      },
      "execution_count": 11,
      "outputs": []
    },
    {
      "cell_type": "code",
      "source": [
        "print(k)"
      ],
      "metadata": {
        "colab": {
          "base_uri": "https://localhost:8080/"
        },
        "id": "tZ9hmEinmDGd",
        "outputId": "cf833b31-ab0a-450f-f65b-e3d8dad5d158"
      },
      "execution_count": 12,
      "outputs": [
        {
          "output_type": "stream",
          "name": "stdout",
          "text": [
            "/tmp/dataset/data/training_data/K\n"
          ]
        }
      ]
    },
    {
      "cell_type": "code",
      "source": [
        "k_img = []\n",
        "for index in range (len(k)):\n",
        "  img = cv2.imread(os.path.join(k, os.listdir(k)[index]))\n",
        "  k_img.append(img)"
      ],
      "metadata": {
        "id": "5-vukzUjmESh"
      },
      "execution_count": 13,
      "outputs": []
    },
    {
      "cell_type": "code",
      "source": [
        "k_img[0].shape"
      ],
      "metadata": {
        "colab": {
          "base_uri": "https://localhost:8080/"
        },
        "id": "q4T2ddg5mFYt",
        "outputId": "7b050f37-8688-4662-f536-2c2d3ea1e0dc"
      },
      "execution_count": 14,
      "outputs": [
        {
          "output_type": "execute_result",
          "data": {
            "text/plain": [
              "(38, 23, 3)"
            ]
          },
          "metadata": {},
          "execution_count": 14
        }
      ]
    },
    {
      "cell_type": "code",
      "source": [
        "# ret,thresh1 = cv2.threshold(im1,180,255,cv2.THRESH_BINARY_INV)\n",
        "# kernel = np.ones((5,5),np.uint8)\n",
        "# dilated = cv2.dilate(thresh1,kernel,iterations = 2)\n",
        "# _,contours, hierarchy = cv2.findContours(dilated,cv2.RETR_TREE,cv2.CHAIN_APPROX_SIMPLE)\n",
        "# cordinates = []\n",
        "# for cnt in contours:\n",
        "#     x,y,w,h = cv2.boundingRect(cnt)\n",
        "#     cordinates.append((x,y,w,h))\n",
        "#     #bound the images\n",
        "#     cv2.rectangle(im,(x,y),(x+w,y+h),(0,255,0),1)\n",
        "\n",
        "# cv2.namedWindow('BindingBox', cv2.WINDOW_NORMAL)\n",
        "# cv2.imwrite('content/BindingBox4.jpg',im)"
      ],
      "metadata": {
        "id": "f1I9oPfAmGpF"
      },
      "execution_count": 15,
      "outputs": []
    },
    {
      "cell_type": "code",
      "source": [
        "img_size = 128\n",
        "input_shape = (128,128,1)"
      ],
      "metadata": {
        "id": "AECZboohmIDh"
      },
      "execution_count": 16,
      "outputs": []
    },
    {
      "cell_type": "code",
      "source": [
        "train_datagen = ImageDataGenerator(\n",
        "    rescale = 1./255,\n",
        "    width_shift_range = 0.2,\n",
        "    height_shift_range = 0.2,\n",
        "    shear_range = 0.2,\n",
        "    zoom_range = 0.2,\n",
        "    horizontal_flip = True,\n",
        "    fill_mode = 'nearest'\n",
        ")\n",
        "\n",
        "validation_datagen = ImageDataGenerator(\n",
        "    rescale = 1./255\n",
        ")\n",
        "\n",
        "training_generator = train_datagen.flow_from_directory(training_data_dir,\n",
        "                                                 target_size = (img_size, img_size),\n",
        "                                                 batch_size = 382,  # 20628 // 54 = 382\n",
        "                                                 color_mode = 'grayscale',\n",
        "                                                 class_mode = 'categorical',\n",
        "    \n",
        ")\n",
        "\n",
        "validation_generator = validation_datagen.flow_from_directory(validation_data_dir,\n",
        "                                                 target_size = (img_size, img_size),\n",
        "                                                 batch_size = 36, #1008 // 28 = 36 \n",
        "                                                 color_mode = 'grayscale',\n",
        "                                                 class_mode = 'categorical',\n",
        "    \n",
        ")"
      ],
      "metadata": {
        "colab": {
          "base_uri": "https://localhost:8080/"
        },
        "id": "wIhSoXgCmJK_",
        "outputId": "3d1fc686-610e-41a2-dfa9-7b6ce2a2816b"
      },
      "execution_count": 17,
      "outputs": [
        {
          "output_type": "stream",
          "name": "stdout",
          "text": [
            "Found 20628 images belonging to 36 classes.\n",
            "Found 1008 images belonging to 36 classes.\n"
          ]
        }
      ]
    },
    {
      "cell_type": "code",
      "source": [
        "#make a model\n",
        "\n",
        "# callback = EarlyStopping(monitor = 'val_loss',\n",
        "#                         patience = 3,\n",
        "#                         verbose = 1) \n",
        "\n",
        "\n",
        "model = tf.keras.models.Sequential([\n",
        "      tf.keras.layers.Conv2D(32,(5,5), activation ='relu', input_shape=input_shape), \n",
        "      tf.keras.layers.MaxPooling2D(2,2),\n",
        "      tf.keras.layers.Conv2D(64, (3,3), activation = 'relu'),\n",
        "      tf.keras.layers.MaxPooling2D(2,2),\n",
        "      tf.keras.layers.Conv2D(128, (3,3), activation = 'relu'),\n",
        "      tf.keras.layers.MaxPooling2D(2,2),\n",
        "      tf.keras.layers.Conv2D(256, (3,3), activation = 'relu'),\n",
        "      tf.keras.layers.MaxPooling2D(2,2),\n",
        "\n",
        "      tf.keras.layers.Flatten(),\n",
        "      tf.keras.layers.Dropout(0.2),\n",
        "\n",
        "      tf.keras.layers.Dense(256, activation = 'relu'),\n",
        "      tf.keras.layers.Dense(36, activation='softmax'),\n",
        "\n",
        "\n",
        "\n",
        "])\n",
        "model.summary()"
      ],
      "metadata": {
        "colab": {
          "base_uri": "https://localhost:8080/"
        },
        "id": "-judknYnmKv7",
        "outputId": "3bad5332-fd35-40a9-f433-b24bb443db12"
      },
      "execution_count": 18,
      "outputs": [
        {
          "output_type": "stream",
          "name": "stdout",
          "text": [
            "Model: \"sequential\"\n",
            "_________________________________________________________________\n",
            " Layer (type)                Output Shape              Param #   \n",
            "=================================================================\n",
            " conv2d (Conv2D)             (None, 124, 124, 32)      832       \n",
            "                                                                 \n",
            " max_pooling2d (MaxPooling2D  (None, 62, 62, 32)       0         \n",
            " )                                                               \n",
            "                                                                 \n",
            " conv2d_1 (Conv2D)           (None, 60, 60, 64)        18496     \n",
            "                                                                 \n",
            " max_pooling2d_1 (MaxPooling  (None, 30, 30, 64)       0         \n",
            " 2D)                                                             \n",
            "                                                                 \n",
            " conv2d_2 (Conv2D)           (None, 28, 28, 128)       73856     \n",
            "                                                                 \n",
            " max_pooling2d_2 (MaxPooling  (None, 14, 14, 128)      0         \n",
            " 2D)                                                             \n",
            "                                                                 \n",
            " conv2d_3 (Conv2D)           (None, 12, 12, 256)       295168    \n",
            "                                                                 \n",
            " max_pooling2d_3 (MaxPooling  (None, 6, 6, 256)        0         \n",
            " 2D)                                                             \n",
            "                                                                 \n",
            " flatten (Flatten)           (None, 9216)              0         \n",
            "                                                                 \n",
            " dropout (Dropout)           (None, 9216)              0         \n",
            "                                                                 \n",
            " dense (Dense)               (None, 256)               2359552   \n",
            "                                                                 \n",
            " dense_1 (Dense)             (None, 36)                9252      \n",
            "                                                                 \n",
            "=================================================================\n",
            "Total params: 2,757,156\n",
            "Trainable params: 2,757,156\n",
            "Non-trainable params: 0\n",
            "_________________________________________________________________\n"
          ]
        }
      ]
    },
    {
      "cell_type": "code",
      "source": [
        "model.compile(loss = 'categorical_crossentropy',\n",
        "              optimizer = 'adam',\n",
        "              metrics = ['accuracy'])"
      ],
      "metadata": {
        "id": "1vAlVN3zmMfU"
      },
      "execution_count": 19,
      "outputs": []
    },
    {
      "cell_type": "code",
      "source": [
        "history = model.fit(training_generator,\n",
        "                            steps_per_epoch = 50,\n",
        "                            epochs = 100,\n",
        "                            validation_data = validation_generator,\n",
        "                            validation_steps = 28,\n",
        "                            verbose = 1)"
      ],
      "metadata": {
        "colab": {
          "base_uri": "https://localhost:8080/"
        },
        "id": "WPATy7kzmPIf",
        "outputId": "45f68b3c-f135-4cd5-e2ef-06d89b885fb2"
      },
      "execution_count": null,
      "outputs": [
        {
          "output_type": "stream",
          "name": "stdout",
          "text": [
            "Epoch 1/100\n",
            "50/50 [==============================] - 38s 719ms/step - loss: 0.0876 - accuracy: 0.9690 - val_loss: 0.0267 - val_accuracy: 0.9851\n",
            "Epoch 2/100\n",
            "50/50 [==============================] - 37s 731ms/step - loss: 0.0869 - accuracy: 0.9679 - val_loss: 0.0246 - val_accuracy: 0.9921\n",
            "Epoch 3/100\n",
            "50/50 [==============================] - 35s 698ms/step - loss: 0.0940 - accuracy: 0.9663 - val_loss: 0.0397 - val_accuracy: 0.9782\n",
            "Epoch 4/100\n",
            "50/50 [==============================] - 35s 696ms/step - loss: 0.0857 - accuracy: 0.9686 - val_loss: 0.0315 - val_accuracy: 0.9782\n",
            "Epoch 5/100\n",
            "50/50 [==============================] - 35s 699ms/step - loss: 0.0902 - accuracy: 0.9672 - val_loss: 0.0240 - val_accuracy: 0.9911\n",
            "Epoch 6/100\n",
            "50/50 [==============================] - 35s 699ms/step - loss: 0.0888 - accuracy: 0.9670 - val_loss: 0.0228 - val_accuracy: 0.9911\n",
            "Epoch 7/100\n",
            "50/50 [==============================] - 35s 685ms/step - loss: 0.0888 - accuracy: 0.9667 - val_loss: 0.0208 - val_accuracy: 0.9950\n",
            "Epoch 8/100\n",
            "50/50 [==============================] - 35s 695ms/step - loss: 0.0946 - accuracy: 0.9646 - val_loss: 0.0376 - val_accuracy: 0.9742\n",
            "Epoch 9/100\n",
            "50/50 [==============================] - 34s 687ms/step - loss: 0.0845 - accuracy: 0.9672 - val_loss: 0.0325 - val_accuracy: 0.9792\n",
            "Epoch 10/100\n",
            "50/50 [==============================] - 34s 679ms/step - loss: 0.0855 - accuracy: 0.9679 - val_loss: 0.0295 - val_accuracy: 0.9812\n",
            "Epoch 11/100\n",
            "50/50 [==============================] - 35s 707ms/step - loss: 0.0842 - accuracy: 0.9687 - val_loss: 0.0302 - val_accuracy: 0.9782\n",
            "Epoch 12/100\n",
            "50/50 [==============================] - 34s 680ms/step - loss: 0.0838 - accuracy: 0.9692 - val_loss: 0.0293 - val_accuracy: 0.9851\n",
            "Epoch 13/100\n",
            "50/50 [==============================] - 36s 712ms/step - loss: 0.0848 - accuracy: 0.9693 - val_loss: 0.0196 - val_accuracy: 0.9950\n",
            "Epoch 14/100\n",
            "50/50 [==============================] - 35s 707ms/step - loss: 0.0781 - accuracy: 0.9709 - val_loss: 0.0236 - val_accuracy: 0.9901\n",
            "Epoch 15/100\n",
            "50/50 [==============================] - 35s 703ms/step - loss: 0.0817 - accuracy: 0.9705 - val_loss: 0.0240 - val_accuracy: 0.9891\n",
            "Epoch 16/100\n",
            "50/50 [==============================] - 36s 709ms/step - loss: 0.0802 - accuracy: 0.9698 - val_loss: 0.0289 - val_accuracy: 0.9792\n",
            "Epoch 17/100\n",
            "50/50 [==============================] - 36s 713ms/step - loss: 0.0910 - accuracy: 0.9662 - val_loss: 0.0280 - val_accuracy: 0.9812\n",
            "Epoch 18/100\n",
            "50/50 [==============================] - 36s 712ms/step - loss: 0.0872 - accuracy: 0.9680 - val_loss: 0.0227 - val_accuracy: 0.9950\n",
            "Epoch 19/100\n",
            "50/50 [==============================] - 35s 699ms/step - loss: 0.0828 - accuracy: 0.9679 - val_loss: 0.0250 - val_accuracy: 0.9911\n",
            "Epoch 20/100\n",
            "50/50 [==============================] - 36s 711ms/step - loss: 0.0829 - accuracy: 0.9681 - val_loss: 0.0195 - val_accuracy: 0.9960\n",
            "Epoch 21/100\n",
            "50/50 [==============================] - 36s 709ms/step - loss: 0.0851 - accuracy: 0.9695 - val_loss: 0.0311 - val_accuracy: 0.9792\n",
            "Epoch 22/100\n",
            "50/50 [==============================] - 36s 714ms/step - loss: 0.0866 - accuracy: 0.9676 - val_loss: 0.0220 - val_accuracy: 0.9940\n",
            "Epoch 23/100\n",
            "50/50 [==============================] - 35s 699ms/step - loss: 0.0784 - accuracy: 0.9712 - val_loss: 0.0233 - val_accuracy: 0.9940\n",
            "Epoch 24/100\n",
            "50/50 [==============================] - 35s 703ms/step - loss: 0.0815 - accuracy: 0.9685 - val_loss: 0.0319 - val_accuracy: 0.9792\n",
            "Epoch 25/100\n",
            "16/50 [========>.....................] - ETA: 23s - loss: 0.0933 - accuracy: 0.9655"
          ]
        }
      ]
    },
    {
      "cell_type": "code",
      "source": [
        "!mkdir -p ocr_model\n",
        "model.save('/content/model/ocr-model-al-02.h5')"
      ],
      "metadata": {
        "id": "FD3RJ4RumQrn"
      },
      "execution_count": 63,
      "outputs": []
    },
    {
      "cell_type": "code",
      "source": [
        "# my_model directory\n",
        "!ls ocr_model\n",
        "\n",
        "# # Contains an assets folder, saved_model.pb, and variables folder.\n",
        "# !ls saved_model/my_model"
      ],
      "metadata": {
        "id": "C8lJfBYI1DAe"
      },
      "execution_count": 64,
      "outputs": []
    },
    {
      "cell_type": "code",
      "source": [
        "model = tf.keras.models.load_model('/content/model/ocr-model-al-02.h5')"
      ],
      "metadata": {
        "id": "U6yvYPn71H4M"
      },
      "execution_count": 65,
      "outputs": []
    },
    {
      "cell_type": "code",
      "source": [
        "plt.plot(history.history['accuracy'])\n",
        "plt.plot(history.history['loss'])\n",
        "plt.xlabel('Time')\n",
        "plt.legend(['accuracy', 'loss'])\n",
        "plt.show()"
      ],
      "metadata": {
        "colab": {
          "base_uri": "https://localhost:8080/",
          "height": 450
        },
        "id": "zUKQvamV1Nac",
        "outputId": "43e5afc6-dc3a-40e3-c806-dba3e511351d"
      },
      "execution_count": 66,
      "outputs": [
        {
          "output_type": "display_data",
          "data": {
            "text/plain": [
              "<Figure size 640x480 with 1 Axes>"
            ],
            "image/png": "[encoded data removed]"
          },
          "metadata": {}
        }
      ]
    },
    {
      "cell_type": "code",
      "source": [
        "img = cv2.imread(\"/content/image/number/9.png\")\n",
        "img = cv2.resize(img, (128,128))\n",
        "img = cv2.cvtColor(img, cv2.COLOR_BGR2GRAY)\n",
        "plt.imshow(img)\n",
        "plt.show()\n",
        "\n",
        "img = np.array(img, dtype = 'float32')\n",
        "img = np.expand_dims(img, axis = 2)\n",
        "img = img.reshape(-1, 128, 128, 1)\n",
        "prediction = model.predict(img)\n",
        "np.argmax(prediction)\n",
        "\n",
        "labelNames = \"0123456789\"\n",
        "labelNames += \"ABCDEFGHIJKLMNOPQRSTUVWXYZ\"\n",
        "print(\"\\npredict: {}\".format(labelNames[np.argmax(prediction)]))"
      ],
      "metadata": {
        "colab": {
          "base_uri": "https://localhost:8080/",
          "height": 489
        },
        "id": "c7PfW7qD1YAw",
        "outputId": "4cc3e942-4554-45dc-f926-926fa9591199"
      },
      "execution_count": 102,
      "outputs": [
        {
          "output_type": "display_data",
          "data": {
            "text/plain": [
              "<Figure size 640x480 with 1 Axes>"
            ],
            "image/png": "[encoded data removed]"
          },
          "metadata": {}
        },
        {
          "output_type": "stream",
          "name": "stdout",
          "text": [
            "1/1 [==============================] - 0s 30ms/step\n",
            "\n",
            "predict: Z\n"
          ]
        }
      ]
    },
    {
      "cell_type": "code",
      "source": [],
      "metadata": {
        "id": "bQHaFB_l2Q95"
      },
      "execution_count": null,
      "outputs": []
    }
  ]
}