{
  "nbformat": 4,
  "nbformat_minor": 0,
  "metadata": {
    "colab": {
      "provenance": [],
      "gpuType": "T4",
      "authorship_tag": "ABX9TyPGeaeyXjBpBwcFRUa/kzhh",
      "include_colab_link": true
    },
    "kernelspec": {
      "name": "python3",
      "display_name": "Python 3"
    },
    "language_info": {
      "name": "python"
    },
    "accelerator": "GPU"
  },
  "cells": [
    {
      "cell_type": "markdown",
      "metadata": {
        "id": "view-in-github",
        "colab_type": "text"
      },
      "source": [
        "<a href=\"https://colab.research.google.com/github/muhamadgibran16/Bangkit-Capstone-Project/blob/machine-learning/Character_Recognition_01_OCR.ipynb\" target=\"_parent\"><img src=\"https://colab.research.google.com/assets/colab-badge.svg\" alt=\"Open In Colab\"/></a>"
      ]
    },
    {
      "cell_type": "code",
      "execution_count": 1,
      "metadata": {
        "id": "SelWsFx5lQoX"
      },
      "outputs": [],
      "source": [
        "from google.colab import files, drive\n",
        "import os\n",
        "from tensorflow.keras.preprocessing.image import img_to_array, load_img, ImageDataGenerator\n",
        "from tensorflow.keras.models import *\n",
        "import zipfile\n",
        "from tensorflow import keras\n",
        "import tensorflow as tf\n",
        "import cv2\n",
        "import numpy as np\n",
        "import matplotlib.pyplot as plt\n"
      ]
    },
    {
      "cell_type": "code",
      "source": [
        "#you need to create your own API first in kaggle\n",
        "#upload kaggle json\n",
        "\n",
        "files.upload()"
      ],
      "metadata": {
        "colab": {
          "base_uri": "https://localhost:8080/",
          "height": 91
        },
        "id": "DDo9bFo2li6o",
        "outputId": "ed992ff4-0c76-4e4b-e100-23ba1bec0262"
      },
      "execution_count": 2,
      "outputs": [
        {
          "output_type": "display_data",
          "data": {
            "text/plain": [
              "<IPython.core.display.HTML object>"
            ],
            "text/html": [
              "\n",
              "     <input type=\"file\" id=\"files-f7df3b89-47b7-4363-bf47-75d996454015\" name=\"files[]\" multiple disabled\n",
              "        style=\"border:none\" />\n",
              "     <output id=\"result-f7df3b89-47b7-4363-bf47-75d996454015\">\n",
              "      Upload widget is only available when the cell has been executed in the\n",
              "      current browser session. Please rerun this cell to enable.\n",
              "      </output>\n",
              "      <script>// Copyright 2017 Google LLC\n",
              "//\n",
              "// Licensed under the Apache License, Version 2.0 (the \"License\");\n",
              "// you may not use this file except in compliance with the License.\n",
              "// You may obtain a copy of the License at\n",
              "//\n",
              "//      http://www.apache.org/licenses/LICENSE-2.0\n",
              "//\n",
              "// Unless required by applicable law or agreed to in writing, software\n",
              "// distributed under the License is distributed on an \"AS IS\" BASIS,\n",
              "// WITHOUT WARRANTIES OR CONDITIONS OF ANY KIND, either express or implied.\n",
              "// See the License for the specific language governing permissions and\n",
              "// limitations under the License.\n",
              "\n",
              "/**\n",
              " * @fileoverview Helpers for google.colab Python module.\n",
              " */\n",
              "(function(scope) {\n",
              "function span(text, styleAttributes = {}) {\n",
              "  const element = document.createElement('span');\n",
              "  element.textContent = text;\n",
              "  for (const key of Object.keys(styleAttributes)) {\n",
              "    element.style[key] = styleAttributes[key];\n",
              "  }\n",
              "  return element;\n",
              "}\n",
              "\n",
              "// Max number of bytes which will be uploaded at a time.\n",
              "const MAX_PAYLOAD_SIZE = 100 * 1024;\n",
              "\n",
              "function _uploadFiles(inputId, outputId) {\n",
              "  const steps = uploadFilesStep(inputId, outputId);\n",
              "  const outputElement = document.getElementById(outputId);\n",
              "  // Cache steps on the outputElement to make it available for the next call\n",
              "  // to uploadFilesContinue from Python.\n",
              "  outputElement.steps = steps;\n",
              "\n",
              "  return _uploadFilesContinue(outputId);\n",
              "}\n",
              "\n",
              "// This is roughly an async generator (not supported in the browser yet),\n",
              "// where there are multiple asynchronous steps and the Python side is going\n",
              "// to poll for completion of each step.\n",
              "// This uses a Promise to block the python side on completion of each step,\n",
              "// then passes the result of the previous step as the input to the next step.\n",
              "function _uploadFilesContinue(outputId) {\n",
              "  const outputElement = document.getElementById(outputId);\n",
              "  const steps = outputElement.steps;\n",
              "\n",
              "  const next = steps.next(outputElement.lastPromiseValue);\n",
              "  return Promise.resolve(next.value.promise).then((value) => {\n",
              "    // Cache the last promise value to make it available to the next\n",
              "    // step of the generator.\n",
              "    outputElement.lastPromiseValue = value;\n",
              "    return next.value.response;\n",
              "  });\n",
              "}\n",
              "\n",
              "/**\n",
              " * Generator function which is called between each async step of the upload\n",
              " * process.\n",
              " * @param {string} inputId Element ID of the input file picker element.\n",
              " * @param {string} outputId Element ID of the output display.\n",
              " * @return {!Iterable<!Object>} Iterable of next steps.\n",
              " */\n",
              "function* uploadFilesStep(inputId, outputId) {\n",
              "  const inputElement = document.getElementById(inputId);\n",
              "  inputElement.disabled = false;\n",
              "\n",
              "  const outputElement = document.getElementById(outputId);\n",
              "  outputElement.innerHTML = '';\n",
              "\n",
              "  const pickedPromise = new Promise((resolve) => {\n",
              "    inputElement.addEventListener('change', (e) => {\n",
              "      resolve(e.target.files);\n",
              "    });\n",
              "  });\n",
              "\n",
              "  const cancel = document.createElement('button');\n",
              "  inputElement.parentElement.appendChild(cancel);\n",
              "  cancel.textContent = 'Cancel upload';\n",
              "  const cancelPromise = new Promise((resolve) => {\n",
              "    cancel.onclick = () => {\n",
              "      resolve(null);\n",
              "    };\n",
              "  });\n",
              "\n",
              "  // Wait for the user to pick the files.\n",
              "  const files = yield {\n",
              "    promise: Promise.race([pickedPromise, cancelPromise]),\n",
              "    response: {\n",
              "      action: 'starting',\n",
              "    }\n",
              "  };\n",
              "\n",
              "  cancel.remove();\n",
              "\n",
              "  // Disable the input element since further picks are not allowed.\n",
              "  inputElement.disabled = true;\n",
              "\n",
              "  if (!files) {\n",
              "    return {\n",
              "      response: {\n",
              "        action: 'complete',\n",
              "      }\n",
              "    };\n",
              "  }\n",
              "\n",
              "  for (const file of files) {\n",
              "    const li = document.createElement('li');\n",
              "    li.append(span(file.name, {fontWeight: 'bold'}));\n",
              "    li.append(span(\n",
              "        `(${file.type || 'n/a'}) - ${file.size} bytes, ` +\n",
              "        `last modified: ${\n",
              "            file.lastModifiedDate ? file.lastModifiedDate.toLocaleDateString() :\n",
              "                                    'n/a'} - `));\n",
              "    const percent = span('0% done');\n",
              "    li.appendChild(percent);\n",
              "\n",
              "    outputElement.appendChild(li);\n",
              "\n",
              "    const fileDataPromise = new Promise((resolve) => {\n",
              "      const reader = new FileReader();\n",
              "      reader.onload = (e) => {\n",
              "        resolve(e.target.result);\n",
              "      };\n",
              "      reader.readAsArrayBuffer(file);\n",
              "    });\n",
              "    // Wait for the data to be ready.\n",
              "    let fileData = yield {\n",
              "      promise: fileDataPromise,\n",
              "      response: {\n",
              "        action: 'continue',\n",
              "      }\n",
              "    };\n",
              "\n",
              "    // Use a chunked sending to avoid message size limits. See b/62115660.\n",
              "    let position = 0;\n",
              "    do {\n",
              "      const length = Math.min(fileData.byteLength - position, MAX_PAYLOAD_SIZE);\n",
              "      const chunk = new Uint8Array(fileData, position, length);\n",
              "      position += length;\n",
              "\n",
              "      const base64 = btoa(String.fromCharCode.apply(null, chunk));\n",
              "      yield {\n",
              "        response: {\n",
              "          action: 'append',\n",
              "          file: file.name,\n",
              "          data: base64,\n",
              "        },\n",
              "      };\n",
              "\n",
              "      let percentDone = fileData.byteLength === 0 ?\n",
              "          100 :\n",
              "          Math.round((position / fileData.byteLength) * 100);\n",
              "      percent.textContent = `${percentDone}% done`;\n",
              "\n",
              "    } while (position < fileData.byteLength);\n",
              "  }\n",
              "\n",
              "  // All done.\n",
              "  yield {\n",
              "    response: {\n",
              "      action: 'complete',\n",
              "    }\n",
              "  };\n",
              "}\n",
              "\n",
              "scope.google = scope.google || {};\n",
              "scope.google.colab = scope.google.colab || {};\n",
              "scope.google.colab._files = {\n",
              "  _uploadFiles,\n",
              "  _uploadFilesContinue,\n",
              "};\n",
              "})(self);\n",
              "</script> "
            ]
          },
          "metadata": {}
        },
        {
          "output_type": "stream",
          "name": "stdout",
          "text": [
            "Saving kaggle.json to kaggle.json\n"
          ]
        },
        {
          "output_type": "execute_result",
          "data": {
            "text/plain": [
              "{'kaggle.json': b'{\"username\":\"alhasanmusthafaa\",\"key\":\"64853a0a23e1b8bfbd2bfc7b3e1f9727\"}'}"
            ]
          },
          "metadata": {},
          "execution_count": 2
        }
      ]
    },
    {
      "cell_type": "code",
      "source": [
        "#create a kaggle folder\n",
        "!mkdir ~/.kaggle\n"
      ],
      "metadata": {
        "id": "uCNumP46lvIL"
      },
      "execution_count": 3,
      "outputs": []
    },
    {
      "cell_type": "code",
      "source": [
        "#copy kaggle.json to folder created\n",
        "!cp kaggle.json ~/.kaggle/\n",
        "\n",
        "#permission for the json to act\n",
        "! chmod 600 ~/.kaggle/kaggle.json"
      ],
      "metadata": {
        "id": "EThiYpjZl3vZ"
      },
      "execution_count": 4,
      "outputs": []
    },
    {
      "cell_type": "code",
      "source": [
        "!kaggle datasets download -d preatcher/standard-ocr-dataset"
      ],
      "metadata": {
        "colab": {
          "base_uri": "https://localhost:8080/"
        },
        "id": "KUZz4Ut8l48t",
        "outputId": "6581ef25-1b67-46de-e71a-5c032ec29f5a"
      },
      "execution_count": 5,
      "outputs": [
        {
          "output_type": "stream",
          "name": "stdout",
          "text": [
            "Downloading standard-ocr-dataset.zip to /content\n",
            " 89% 41.0M/46.2M [00:00<00:00, 63.7MB/s]\n",
            "100% 46.2M/46.2M [00:00<00:00, 66.7MB/s]\n"
          ]
        }
      ]
    },
    {
      "cell_type": "code",
      "source": [
        "test_local_zip = '/content/standard-ocr-dataset.zip'\n",
        "zip_ref = zipfile.ZipFile(test_local_zip, 'r')\n",
        "zip_ref.extractall('/tmp/dataset')\n",
        "\n",
        "zip_ref.close()"
      ],
      "metadata": {
        "id": "Zo8sG7Q0l6Hw"
      },
      "execution_count": 6,
      "outputs": []
    },
    {
      "cell_type": "code",
      "source": [
        "os.listdir('/tmp/dataset')"
      ],
      "metadata": {
        "colab": {
          "base_uri": "https://localhost:8080/"
        },
        "id": "fVMGdeOgl8K2",
        "outputId": "581067ec-258c-450c-8581-4613a4434d31"
      },
      "execution_count": 7,
      "outputs": [
        {
          "output_type": "execute_result",
          "data": {
            "text/plain": [
              "['data', 'data2']"
            ]
          },
          "metadata": {},
          "execution_count": 7
        }
      ]
    },
    {
      "cell_type": "code",
      "source": [
        "source_dir = '/tmp/dataset/data'\n",
        "os.listdir(source_dir)\n",
        "     \n",
        "    "
      ],
      "metadata": {
        "colab": {
          "base_uri": "https://localhost:8080/"
        },
        "id": "nYEcVF5wl9wP",
        "outputId": "fb14e91c-ab56-465c-8ba6-cc3699a225d6"
      },
      "execution_count": 8,
      "outputs": [
        {
          "output_type": "execute_result",
          "data": {
            "text/plain": [
              "['training_data', 'testing_data']"
            ]
          },
          "metadata": {},
          "execution_count": 8
        }
      ]
    },
    {
      "cell_type": "code",
      "source": [
        "training_data_dir = os.path.join(source_dir, 'training_data')\n",
        "validation_data_dir = os.path.join(source_dir, 'testing_data')"
      ],
      "metadata": {
        "id": "1SXflY7el-_m"
      },
      "execution_count": 9,
      "outputs": []
    },
    {
      "cell_type": "code",
      "source": [
        "print('len of folders in training data dir: {}'.format(len(os.listdir(training_data_dir))))\n",
        "print('len of folders in validation data dir: {}'.format(len(os.listdir(validation_data_dir))))"
      ],
      "metadata": {
        "colab": {
          "base_uri": "https://localhost:8080/"
        },
        "id": "ufktPIBrmASB",
        "outputId": "b483f1eb-772c-4382-dea2-058cea3138ac"
      },
      "execution_count": 10,
      "outputs": [
        {
          "output_type": "stream",
          "name": "stdout",
          "text": [
            "len of folders in training data dir: 36\n",
            "len of folders in validation data dir: 36\n"
          ]
        }
      ]
    },
    {
      "cell_type": "code",
      "source": [
        "k = os.listdir(training_data_dir)[0]\n",
        "k = os.path.join(training_data_dir, k)"
      ],
      "metadata": {
        "id": "F-9I8r9omBvI"
      },
      "execution_count": 11,
      "outputs": []
    },
    {
      "cell_type": "code",
      "source": [
        "print(k)"
      ],
      "metadata": {
        "colab": {
          "base_uri": "https://localhost:8080/"
        },
        "id": "tZ9hmEinmDGd",
        "outputId": "cf833b31-ab0a-450f-f65b-e3d8dad5d158"
      },
      "execution_count": 12,
      "outputs": [
        {
          "output_type": "stream",
          "name": "stdout",
          "text": [
            "/tmp/dataset/data/training_data/K\n"
          ]
        }
      ]
    },
    {
      "cell_type": "code",
      "source": [
        "k_img = []\n",
        "for index in range (len(k)):\n",
        "  img = cv2.imread(os.path.join(k, os.listdir(k)[index]))\n",
        "  k_img.append(img)"
      ],
      "metadata": {
        "id": "5-vukzUjmESh"
      },
      "execution_count": 13,
      "outputs": []
    },
    {
      "cell_type": "code",
      "source": [
        "k_img[0].shape"
      ],
      "metadata": {
        "colab": {
          "base_uri": "https://localhost:8080/"
        },
        "id": "q4T2ddg5mFYt",
        "outputId": "7b050f37-8688-4662-f536-2c2d3ea1e0dc"
      },
      "execution_count": 14,
      "outputs": [
        {
          "output_type": "execute_result",
          "data": {
            "text/plain": [
              "(38, 23, 3)"
            ]
          },
          "metadata": {},
          "execution_count": 14
        }
      ]
    },
    {
      "cell_type": "code",
      "source": [
        "# ret,thresh1 = cv2.threshold(im1,180,255,cv2.THRESH_BINARY_INV)\n",
        "# kernel = np.ones((5,5),np.uint8)\n",
        "# dilated = cv2.dilate(thresh1,kernel,iterations = 2)\n",
        "# _,contours, hierarchy = cv2.findContours(dilated,cv2.RETR_TREE,cv2.CHAIN_APPROX_SIMPLE)\n",
        "# cordinates = []\n",
        "# for cnt in contours:\n",
        "#     x,y,w,h = cv2.boundingRect(cnt)\n",
        "#     cordinates.append((x,y,w,h))\n",
        "#     #bound the images\n",
        "#     cv2.rectangle(im,(x,y),(x+w,y+h),(0,255,0),1)\n",
        "\n",
        "# cv2.namedWindow('BindingBox', cv2.WINDOW_NORMAL)\n",
        "# cv2.imwrite('content/BindingBox4.jpg',im)"
      ],
      "metadata": {
        "id": "f1I9oPfAmGpF"
      },
      "execution_count": 15,
      "outputs": []
    },
    {
      "cell_type": "code",
      "source": [
        "img_size = 128\n",
        "input_shape = (128,128,1)"
      ],
      "metadata": {
        "id": "AECZboohmIDh"
      },
      "execution_count": 16,
      "outputs": []
    },
    {
      "cell_type": "code",
      "source": [
        "train_datagen = ImageDataGenerator(\n",
        "    rescale = 1./255,\n",
        "    width_shift_range = 0.2,\n",
        "    height_shift_range = 0.2,\n",
        "    shear_range = 0.2,\n",
        "    zoom_range = 0.2,\n",
        "    horizontal_flip = True,\n",
        "    fill_mode = 'nearest'\n",
        ")\n",
        "\n",
        "validation_datagen = ImageDataGenerator(\n",
        "    rescale = 1./255\n",
        ")\n",
        "\n",
        "training_generator = train_datagen.flow_from_directory(training_data_dir,\n",
        "                                                 target_size = (img_size, img_size),\n",
        "                                                 batch_size = 382,  # 20628 // 54 = 382\n",
        "                                                 color_mode = 'grayscale',\n",
        "                                                 class_mode = 'categorical',\n",
        "    \n",
        ")\n",
        "\n",
        "validation_generator = validation_datagen.flow_from_directory(validation_data_dir,\n",
        "                                                 target_size = (img_size, img_size),\n",
        "                                                 batch_size = 36, #1008 // 28 = 36 \n",
        "                                                 color_mode = 'grayscale',\n",
        "                                                 class_mode = 'categorical',\n",
        "    \n",
        ")"
      ],
      "metadata": {
        "colab": {
          "base_uri": "https://localhost:8080/"
        },
        "id": "wIhSoXgCmJK_",
        "outputId": "3d1fc686-610e-41a2-dfa9-7b6ce2a2816b"
      },
      "execution_count": 17,
      "outputs": [
        {
          "output_type": "stream",
          "name": "stdout",
          "text": [
            "Found 20628 images belonging to 36 classes.\n",
            "Found 1008 images belonging to 36 classes.\n"
          ]
        }
      ]
    },
    {
      "cell_type": "code",
      "source": [
        "#make a model\n",
        "\n",
        "# callback = EarlyStopping(monitor = 'val_loss',\n",
        "#                         patience = 3,\n",
        "#                         verbose = 1) \n",
        "\n",
        "\n",
        "model = tf.keras.models.Sequential([\n",
        "      tf.keras.layers.Conv2D(32,(5,5), activation ='relu', input_shape=input_shape), \n",
        "      tf.keras.layers.MaxPooling2D(2,2),\n",
        "      tf.keras.layers.Conv2D(64, (3,3), activation = 'relu'),\n",
        "      tf.keras.layers.MaxPooling2D(2,2),\n",
        "      tf.keras.layers.Conv2D(128, (3,3), activation = 'relu'),\n",
        "      tf.keras.layers.MaxPooling2D(2,2),\n",
        "      tf.keras.layers.Conv2D(256, (3,3), activation = 'relu'),\n",
        "      tf.keras.layers.MaxPooling2D(2,2),\n",
        "\n",
        "      tf.keras.layers.Flatten(),\n",
        "      tf.keras.layers.Dropout(0.2),\n",
        "\n",
        "      tf.keras.layers.Dense(256, activation = 'relu'),\n",
        "      tf.keras.layers.Dense(36, activation='softmax'),\n",
        "\n",
        "\n",
        "\n",
        "])\n",
        "model.summary()"
      ],
      "metadata": {
        "colab": {
          "base_uri": "https://localhost:8080/"
        },
        "id": "-judknYnmKv7",
        "outputId": "3bad5332-fd35-40a9-f433-b24bb443db12"
      },
      "execution_count": 18,
      "outputs": [
        {
          "output_type": "stream",
          "name": "stdout",
          "text": [
            "Model: \"sequential\"\n",
            "_________________________________________________________________\n",
            " Layer (type)                Output Shape              Param #   \n",
            "=================================================================\n",
            " conv2d (Conv2D)             (None, 124, 124, 32)      832       \n",
            "                                                                 \n",
            " max_pooling2d (MaxPooling2D  (None, 62, 62, 32)       0         \n",
            " )                                                               \n",
            "                                                                 \n",
            " conv2d_1 (Conv2D)           (None, 60, 60, 64)        18496     \n",
            "                                                                 \n",
            " max_pooling2d_1 (MaxPooling  (None, 30, 30, 64)       0         \n",
            " 2D)                                                             \n",
            "                                                                 \n",
            " conv2d_2 (Conv2D)           (None, 28, 28, 128)       73856     \n",
            "                                                                 \n",
            " max_pooling2d_2 (MaxPooling  (None, 14, 14, 128)      0         \n",
            " 2D)                                                             \n",
            "                                                                 \n",
            " conv2d_3 (Conv2D)           (None, 12, 12, 256)       295168    \n",
            "                                                                 \n",
            " max_pooling2d_3 (MaxPooling  (None, 6, 6, 256)        0         \n",
            " 2D)                                                             \n",
            "                                                                 \n",
            " flatten (Flatten)           (None, 9216)              0         \n",
            "                                                                 \n",
            " dropout (Dropout)           (None, 9216)              0         \n",
            "                                                                 \n",
            " dense (Dense)               (None, 256)               2359552   \n",
            "                                                                 \n",
            " dense_1 (Dense)             (None, 36)                9252      \n",
            "                                                                 \n",
            "=================================================================\n",
            "Total params: 2,757,156\n",
            "Trainable params: 2,757,156\n",
            "Non-trainable params: 0\n",
            "_________________________________________________________________\n"
          ]
        }
      ]
    },
    {
      "cell_type": "code",
      "source": [
        "model.compile(loss = 'categorical_crossentropy',\n",
        "              optimizer = 'adam',\n",
        "              metrics = ['accuracy'])"
      ],
      "metadata": {
        "id": "1vAlVN3zmMfU"
      },
      "execution_count": 19,
      "outputs": []
    },
    {
      "cell_type": "code",
      "source": [
        "history = model.fit(training_generator,\n",
        "                            steps_per_epoch = 50,\n",
        "                            epochs = 100,\n",
        "                            validation_data = validation_generator,\n",
        "                            validation_steps = 28,\n",
        "                            verbose = 1)"
      ],
      "metadata": {
        "colab": {
          "base_uri": "https://localhost:8080/"
        },
        "id": "WPATy7kzmPIf",
        "outputId": "46da6221-678c-4aff-ae67-090afd92ec8c"
      },
      "execution_count": 124,
      "outputs": [
        {
          "output_type": "stream",
          "name": "stdout",
          "text": [
            "Epoch 1/100\n",
            "50/50 [==============================] - 37s 705ms/step - loss: 0.0771 - accuracy: 0.9706 - val_loss: 0.0227 - val_accuracy: 0.9921\n",
            "Epoch 2/100\n",
            "50/50 [==============================] - 35s 706ms/step - loss: 0.0772 - accuracy: 0.9726 - val_loss: 0.0301 - val_accuracy: 0.9831\n",
            "Epoch 3/100\n",
            "50/50 [==============================] - 35s 694ms/step - loss: 0.0728 - accuracy: 0.9716 - val_loss: 0.0222 - val_accuracy: 0.9901\n",
            "Epoch 4/100\n",
            "50/50 [==============================] - 35s 706ms/step - loss: 0.0737 - accuracy: 0.9718 - val_loss: 0.0254 - val_accuracy: 0.9812\n",
            "Epoch 5/100\n",
            "50/50 [==============================] - 35s 696ms/step - loss: 0.0796 - accuracy: 0.9693 - val_loss: 0.0214 - val_accuracy: 0.9940\n",
            "Epoch 6/100\n",
            "50/50 [==============================] - 34s 677ms/step - loss: 0.0721 - accuracy: 0.9729 - val_loss: 0.0333 - val_accuracy: 0.9782\n",
            "Epoch 7/100\n",
            "50/50 [==============================] - 35s 694ms/step - loss: 0.0675 - accuracy: 0.9754 - val_loss: 0.0258 - val_accuracy: 0.9851\n",
            "Epoch 8/100\n",
            "50/50 [==============================] - 35s 701ms/step - loss: 0.0681 - accuracy: 0.9734 - val_loss: 0.0228 - val_accuracy: 0.9891\n",
            "Epoch 9/100\n",
            "50/50 [==============================] - 35s 707ms/step - loss: 0.0760 - accuracy: 0.9720 - val_loss: 0.0302 - val_accuracy: 0.9812\n",
            "Epoch 10/100\n",
            "50/50 [==============================] - 35s 693ms/step - loss: 0.0744 - accuracy: 0.9720 - val_loss: 0.0200 - val_accuracy: 0.9950\n",
            "Epoch 11/100\n",
            "50/50 [==============================] - 36s 710ms/step - loss: 0.0706 - accuracy: 0.9732 - val_loss: 0.0174 - val_accuracy: 0.9931\n",
            "Epoch 12/100\n",
            "50/50 [==============================] - 34s 683ms/step - loss: 0.0728 - accuracy: 0.9720 - val_loss: 0.0361 - val_accuracy: 0.9782\n",
            "Epoch 13/100\n",
            "50/50 [==============================] - 35s 690ms/step - loss: 0.0726 - accuracy: 0.9717 - val_loss: 0.0239 - val_accuracy: 0.9891\n",
            "Epoch 14/100\n",
            "50/50 [==============================] - 35s 703ms/step - loss: 0.0666 - accuracy: 0.9738 - val_loss: 0.0280 - val_accuracy: 0.9821\n",
            "Epoch 15/100\n",
            "50/50 [==============================] - 34s 681ms/step - loss: 0.0664 - accuracy: 0.9745 - val_loss: 0.0211 - val_accuracy: 0.9901\n",
            "Epoch 16/100\n",
            "50/50 [==============================] - 36s 709ms/step - loss: 0.0699 - accuracy: 0.9715 - val_loss: 0.0197 - val_accuracy: 0.9911\n",
            "Epoch 17/100\n",
            "50/50 [==============================] - 36s 714ms/step - loss: 0.0710 - accuracy: 0.9730 - val_loss: 0.0279 - val_accuracy: 0.9851\n",
            "Epoch 18/100\n",
            "50/50 [==============================] - 35s 688ms/step - loss: 0.0688 - accuracy: 0.9734 - val_loss: 0.0206 - val_accuracy: 0.9950\n",
            "Epoch 19/100\n",
            "50/50 [==============================] - 35s 694ms/step - loss: 0.0727 - accuracy: 0.9731 - val_loss: 0.0182 - val_accuracy: 0.9950\n",
            "Epoch 20/100\n",
            "50/50 [==============================] - 35s 702ms/step - loss: 0.0740 - accuracy: 0.9724 - val_loss: 0.0335 - val_accuracy: 0.9762\n",
            "Epoch 21/100\n",
            "50/50 [==============================] - 35s 693ms/step - loss: 0.0685 - accuracy: 0.9743 - val_loss: 0.0320 - val_accuracy: 0.9782\n",
            "Epoch 22/100\n",
            "50/50 [==============================] - 35s 685ms/step - loss: 0.0739 - accuracy: 0.9717 - val_loss: 0.0359 - val_accuracy: 0.9782\n",
            "Epoch 23/100\n",
            "50/50 [==============================] - 34s 686ms/step - loss: 0.0728 - accuracy: 0.9732 - val_loss: 0.0286 - val_accuracy: 0.9841\n",
            "Epoch 24/100\n",
            "50/50 [==============================] - 35s 689ms/step - loss: 0.0675 - accuracy: 0.9744 - val_loss: 0.0395 - val_accuracy: 0.9742\n",
            "Epoch 25/100\n",
            "50/50 [==============================] - 36s 709ms/step - loss: 0.0707 - accuracy: 0.9735 - val_loss: 0.0240 - val_accuracy: 0.9901\n",
            "Epoch 26/100\n",
            "50/50 [==============================] - 35s 706ms/step - loss: 0.0691 - accuracy: 0.9737 - val_loss: 0.0264 - val_accuracy: 0.9871\n",
            "Epoch 27/100\n",
            "50/50 [==============================] - 35s 702ms/step - loss: 0.0739 - accuracy: 0.9728 - val_loss: 0.0201 - val_accuracy: 0.9901\n",
            "Epoch 28/100\n",
            "50/50 [==============================] - 36s 709ms/step - loss: 0.0689 - accuracy: 0.9735 - val_loss: 0.0241 - val_accuracy: 0.9881\n",
            "Epoch 29/100\n",
            "50/50 [==============================] - 34s 688ms/step - loss: 0.0684 - accuracy: 0.9739 - val_loss: 0.0254 - val_accuracy: 0.9871\n",
            "Epoch 30/100\n",
            "50/50 [==============================] - 37s 730ms/step - loss: 0.0718 - accuracy: 0.9719 - val_loss: 0.0237 - val_accuracy: 0.9841\n",
            "Epoch 31/100\n",
            "50/50 [==============================] - 36s 709ms/step - loss: 0.0682 - accuracy: 0.9744 - val_loss: 0.0241 - val_accuracy: 0.9812\n",
            "Epoch 32/100\n",
            "50/50 [==============================] - 34s 685ms/step - loss: 0.0675 - accuracy: 0.9745 - val_loss: 0.0247 - val_accuracy: 0.9821\n",
            "Epoch 33/100\n",
            "50/50 [==============================] - 35s 695ms/step - loss: 0.0727 - accuracy: 0.9722 - val_loss: 0.0199 - val_accuracy: 0.9911\n",
            "Epoch 34/100\n",
            "50/50 [==============================] - 35s 708ms/step - loss: 0.0683 - accuracy: 0.9748 - val_loss: 0.0181 - val_accuracy: 0.9901\n",
            "Epoch 35/100\n",
            "50/50 [==============================] - 35s 700ms/step - loss: 0.0664 - accuracy: 0.9736 - val_loss: 0.0163 - val_accuracy: 0.9970\n",
            "Epoch 36/100\n",
            "50/50 [==============================] - 36s 714ms/step - loss: 0.0722 - accuracy: 0.9721 - val_loss: 0.0335 - val_accuracy: 0.9762\n",
            "Epoch 37/100\n",
            "50/50 [==============================] - 35s 703ms/step - loss: 0.0710 - accuracy: 0.9733 - val_loss: 0.0220 - val_accuracy: 0.9901\n",
            "Epoch 38/100\n",
            "50/50 [==============================] - 35s 691ms/step - loss: 0.0671 - accuracy: 0.9738 - val_loss: 0.0285 - val_accuracy: 0.9821\n",
            "Epoch 39/100\n",
            "50/50 [==============================] - 35s 698ms/step - loss: 0.0759 - accuracy: 0.9707 - val_loss: 0.0242 - val_accuracy: 0.9871\n",
            "Epoch 40/100\n",
            "50/50 [==============================] - 35s 691ms/step - loss: 0.0724 - accuracy: 0.9729 - val_loss: 0.0403 - val_accuracy: 0.9782\n",
            "Epoch 41/100\n",
            "50/50 [==============================] - 34s 668ms/step - loss: 0.0684 - accuracy: 0.9732 - val_loss: 0.0184 - val_accuracy: 0.9960\n",
            "Epoch 42/100\n",
            "50/50 [==============================] - 35s 699ms/step - loss: 0.0666 - accuracy: 0.9750 - val_loss: 0.0198 - val_accuracy: 0.9931\n",
            "Epoch 43/100\n",
            "50/50 [==============================] - 34s 684ms/step - loss: 0.0671 - accuracy: 0.9740 - val_loss: 0.0224 - val_accuracy: 0.9911\n",
            "Epoch 44/100\n",
            "50/50 [==============================] - 35s 707ms/step - loss: 0.0733 - accuracy: 0.9734 - val_loss: 0.0270 - val_accuracy: 0.9821\n",
            "Epoch 45/100\n",
            "50/50 [==============================] - 34s 684ms/step - loss: 0.0664 - accuracy: 0.9758 - val_loss: 0.0178 - val_accuracy: 0.9950\n",
            "Epoch 46/100\n",
            "50/50 [==============================] - 34s 686ms/step - loss: 0.0721 - accuracy: 0.9722 - val_loss: 0.0218 - val_accuracy: 0.9901\n",
            "Epoch 47/100\n",
            "50/50 [==============================] - 34s 683ms/step - loss: 0.0667 - accuracy: 0.9743 - val_loss: 0.0212 - val_accuracy: 0.9921\n",
            "Epoch 48/100\n",
            "50/50 [==============================] - 34s 677ms/step - loss: 0.0651 - accuracy: 0.9751 - val_loss: 0.0203 - val_accuracy: 0.9911\n",
            "Epoch 49/100\n",
            "50/50 [==============================] - 35s 692ms/step - loss: 0.0703 - accuracy: 0.9728 - val_loss: 0.0321 - val_accuracy: 0.9782\n",
            "Epoch 50/100\n",
            "50/50 [==============================] - 34s 682ms/step - loss: 0.0709 - accuracy: 0.9731 - val_loss: 0.0243 - val_accuracy: 0.9871\n",
            "Epoch 51/100\n",
            "50/50 [==============================] - 35s 699ms/step - loss: 0.0698 - accuracy: 0.9729 - val_loss: 0.0227 - val_accuracy: 0.9901\n",
            "Epoch 52/100\n",
            "50/50 [==============================] - 35s 693ms/step - loss: 0.0695 - accuracy: 0.9731 - val_loss: 0.0271 - val_accuracy: 0.9821\n",
            "Epoch 53/100\n",
            "50/50 [==============================] - 34s 682ms/step - loss: 0.0647 - accuracy: 0.9739 - val_loss: 0.0197 - val_accuracy: 0.9901\n",
            "Epoch 54/100\n",
            "50/50 [==============================] - 35s 696ms/step - loss: 0.0727 - accuracy: 0.9730 - val_loss: 0.0222 - val_accuracy: 0.9881\n",
            "Epoch 55/100\n",
            "50/50 [==============================] - 35s 688ms/step - loss: 0.0683 - accuracy: 0.9728 - val_loss: 0.0325 - val_accuracy: 0.9812\n",
            "Epoch 56/100\n",
            "50/50 [==============================] - 34s 683ms/step - loss: 0.0719 - accuracy: 0.9728 - val_loss: 0.0199 - val_accuracy: 0.9921\n",
            "Epoch 57/100\n",
            "50/50 [==============================] - 35s 700ms/step - loss: 0.0683 - accuracy: 0.9750 - val_loss: 0.0359 - val_accuracy: 0.9782\n",
            "Epoch 58/100\n",
            "50/50 [==============================] - 36s 714ms/step - loss: 0.0693 - accuracy: 0.9735 - val_loss: 0.0274 - val_accuracy: 0.9812\n",
            "Epoch 59/100\n",
            "50/50 [==============================] - 35s 697ms/step - loss: 0.0669 - accuracy: 0.9742 - val_loss: 0.0243 - val_accuracy: 0.9821\n",
            "Epoch 60/100\n",
            "50/50 [==============================] - 35s 699ms/step - loss: 0.0668 - accuracy: 0.9744 - val_loss: 0.0277 - val_accuracy: 0.9782\n",
            "Epoch 61/100\n",
            "50/50 [==============================] - 35s 707ms/step - loss: 0.0643 - accuracy: 0.9761 - val_loss: 0.0192 - val_accuracy: 0.9940\n",
            "Epoch 62/100\n",
            "50/50 [==============================] - 34s 680ms/step - loss: 0.0701 - accuracy: 0.9729 - val_loss: 0.0276 - val_accuracy: 0.9802\n",
            "Epoch 63/100\n",
            "50/50 [==============================] - 36s 710ms/step - loss: 0.0647 - accuracy: 0.9757 - val_loss: 0.0264 - val_accuracy: 0.9802\n",
            "Epoch 64/100\n",
            "50/50 [==============================] - 35s 706ms/step - loss: 0.0646 - accuracy: 0.9760 - val_loss: 0.0167 - val_accuracy: 0.9970\n",
            "Epoch 65/100\n",
            "50/50 [==============================] - 35s 694ms/step - loss: 0.0672 - accuracy: 0.9738 - val_loss: 0.0137 - val_accuracy: 0.9950\n",
            "Epoch 66/100\n",
            "50/50 [==============================] - 36s 713ms/step - loss: 0.0688 - accuracy: 0.9739 - val_loss: 0.0170 - val_accuracy: 0.9931\n",
            "Epoch 67/100\n",
            "50/50 [==============================] - 35s 701ms/step - loss: 0.0665 - accuracy: 0.9743 - val_loss: 0.0197 - val_accuracy: 0.9921\n",
            "Epoch 68/100\n",
            "50/50 [==============================] - 36s 708ms/step - loss: 0.0676 - accuracy: 0.9747 - val_loss: 0.0255 - val_accuracy: 0.9851\n",
            "Epoch 69/100\n",
            "50/50 [==============================] - 35s 698ms/step - loss: 0.0686 - accuracy: 0.9742 - val_loss: 0.0162 - val_accuracy: 0.9950\n",
            "Epoch 70/100\n",
            "50/50 [==============================] - 36s 711ms/step - loss: 0.0685 - accuracy: 0.9739 - val_loss: 0.0270 - val_accuracy: 0.9792\n",
            "Epoch 71/100\n",
            "50/50 [==============================] - 35s 699ms/step - loss: 0.0621 - accuracy: 0.9748 - val_loss: 0.0214 - val_accuracy: 0.9871\n",
            "Epoch 72/100\n",
            "50/50 [==============================] - 36s 710ms/step - loss: 0.0626 - accuracy: 0.9758 - val_loss: 0.0258 - val_accuracy: 0.9821\n",
            "Epoch 73/100\n",
            "50/50 [==============================] - 35s 695ms/step - loss: 0.0651 - accuracy: 0.9756 - val_loss: 0.0282 - val_accuracy: 0.9861\n",
            "Epoch 74/100\n",
            "50/50 [==============================] - 35s 700ms/step - loss: 0.0677 - accuracy: 0.9747 - val_loss: 0.0187 - val_accuracy: 0.9891\n",
            "Epoch 75/100\n",
            "50/50 [==============================] - 35s 698ms/step - loss: 0.0657 - accuracy: 0.9748 - val_loss: 0.0308 - val_accuracy: 0.9831\n",
            "Epoch 76/100\n",
            "50/50 [==============================] - 36s 711ms/step - loss: 0.0651 - accuracy: 0.9745 - val_loss: 0.0205 - val_accuracy: 0.9901\n",
            "Epoch 77/100\n",
            "50/50 [==============================] - 35s 700ms/step - loss: 0.0669 - accuracy: 0.9743 - val_loss: 0.0213 - val_accuracy: 0.9861\n",
            "Epoch 78/100\n",
            "50/50 [==============================] - 36s 710ms/step - loss: 0.0651 - accuracy: 0.9751 - val_loss: 0.0291 - val_accuracy: 0.9831\n",
            "Epoch 79/100\n",
            "50/50 [==============================] - 35s 698ms/step - loss: 0.0631 - accuracy: 0.9764 - val_loss: 0.0241 - val_accuracy: 0.9851\n",
            "Epoch 80/100\n",
            "50/50 [==============================] - 35s 701ms/step - loss: 0.0744 - accuracy: 0.9722 - val_loss: 0.0212 - val_accuracy: 0.9911\n",
            "Epoch 81/100\n",
            "50/50 [==============================] - 35s 699ms/step - loss: 0.0675 - accuracy: 0.9745 - val_loss: 0.0284 - val_accuracy: 0.9792\n",
            "Epoch 82/100\n",
            "50/50 [==============================] - 36s 712ms/step - loss: 0.0632 - accuracy: 0.9759 - val_loss: 0.0300 - val_accuracy: 0.9772\n",
            "Epoch 83/100\n",
            "50/50 [==============================] - 35s 704ms/step - loss: 0.0659 - accuracy: 0.9740 - val_loss: 0.0156 - val_accuracy: 0.9960\n",
            "Epoch 84/100\n",
            "50/50 [==============================] - 35s 695ms/step - loss: 0.0674 - accuracy: 0.9738 - val_loss: 0.0302 - val_accuracy: 0.9762\n",
            "Epoch 85/100\n",
            "50/50 [==============================] - 34s 677ms/step - loss: 0.0650 - accuracy: 0.9748 - val_loss: 0.0166 - val_accuracy: 0.9940\n",
            "Epoch 86/100\n",
            "50/50 [==============================] - 36s 713ms/step - loss: 0.0640 - accuracy: 0.9746 - val_loss: 0.0293 - val_accuracy: 0.9782\n",
            "Epoch 87/100\n",
            "50/50 [==============================] - 36s 720ms/step - loss: 0.0673 - accuracy: 0.9735 - val_loss: 0.0146 - val_accuracy: 0.9950\n",
            "Epoch 88/100\n",
            "50/50 [==============================] - 36s 711ms/step - loss: 0.0703 - accuracy: 0.9744 - val_loss: 0.0194 - val_accuracy: 0.9921\n",
            "Epoch 89/100\n",
            "50/50 [==============================] - 35s 698ms/step - loss: 0.0656 - accuracy: 0.9752 - val_loss: 0.0278 - val_accuracy: 0.9812\n",
            "Epoch 90/100\n",
            "50/50 [==============================] - 36s 718ms/step - loss: 0.0649 - accuracy: 0.9754 - val_loss: 0.0232 - val_accuracy: 0.9861\n",
            "Epoch 91/100\n",
            "50/50 [==============================] - 35s 701ms/step - loss: 0.0688 - accuracy: 0.9727 - val_loss: 0.0194 - val_accuracy: 0.9940\n",
            "Epoch 92/100\n",
            "50/50 [==============================] - 35s 707ms/step - loss: 0.0674 - accuracy: 0.9734 - val_loss: 0.0258 - val_accuracy: 0.9861\n",
            "Epoch 93/100\n",
            "50/50 [==============================] - 35s 706ms/step - loss: 0.0653 - accuracy: 0.9739 - val_loss: 0.0243 - val_accuracy: 0.9901\n",
            "Epoch 94/100\n",
            "50/50 [==============================] - 37s 729ms/step - loss: 0.0679 - accuracy: 0.9732 - val_loss: 0.0329 - val_accuracy: 0.9782\n",
            "Epoch 95/100\n",
            "50/50 [==============================] - 35s 705ms/step - loss: 0.0694 - accuracy: 0.9746 - val_loss: 0.0177 - val_accuracy: 0.9950\n",
            "Epoch 96/100\n",
            "50/50 [==============================] - 36s 716ms/step - loss: 0.0636 - accuracy: 0.9762 - val_loss: 0.0187 - val_accuracy: 0.9911\n",
            "Epoch 97/100\n",
            "50/50 [==============================] - 36s 711ms/step - loss: 0.0690 - accuracy: 0.9739 - val_loss: 0.0212 - val_accuracy: 0.9950\n",
            "Epoch 98/100\n",
            "50/50 [==============================] - 35s 706ms/step - loss: 0.0702 - accuracy: 0.9729 - val_loss: 0.0284 - val_accuracy: 0.9831\n",
            "Epoch 99/100\n",
            "50/50 [==============================] - 35s 697ms/step - loss: 0.0660 - accuracy: 0.9747 - val_loss: 0.0251 - val_accuracy: 0.9891\n",
            "Epoch 100/100\n",
            "50/50 [==============================] - 35s 696ms/step - loss: 0.0618 - accuracy: 0.9755 - val_loss: 0.0206 - val_accuracy: 0.9881\n"
          ]
        }
      ]
    },
    {
      "cell_type": "code",
      "source": [
        "!mkdir -p ocr_model\n",
        "model.save('/content/ocr_model/ocr-model-al-04.h5')"
      ],
      "metadata": {
        "id": "FD3RJ4RumQrn"
      },
      "execution_count": 125,
      "outputs": []
    },
    {
      "cell_type": "code",
      "source": [
        "# my_model directory\n",
        "!ls ocr_model\n",
        "\n",
        "# # Contains an assets folder, saved_model.pb, and variables folder.\n",
        "# !ls saved_model/my_model"
      ],
      "metadata": {
        "colab": {
          "base_uri": "https://localhost:8080/"
        },
        "id": "C8lJfBYI1DAe",
        "outputId": "915433c3-f789-40ed-bd6f-95d7167efde9"
      },
      "execution_count": 126,
      "outputs": [
        {
          "output_type": "stream",
          "name": "stdout",
          "text": [
            "ocr-model-al-01.h5  ocr-model-al-02.h5\tocr-model-al-03.h5  ocr-model-al-04.h5\n"
          ]
        }
      ]
    },
    {
      "cell_type": "code",
      "source": [
        "model = tf.keras.models.load_model('/content/ocr_model/ocr-model-al-04.h5')"
      ],
      "metadata": {
        "id": "U6yvYPn71H4M"
      },
      "execution_count": 127,
      "outputs": []
    },
    {
      "cell_type": "code",
      "source": [
        "plt.plot(history.history['accuracy'])\n",
        "plt.plot(history.history['loss'])\n",
        "plt.xlabel('Time')\n",
        "plt.legend(['accuracy', 'loss'])\n",
        "plt.show()"
      ],
      "metadata": {
        "colab": {
          "base_uri": "https://localhost:8080/",
          "height": 449
        },
        "id": "zUKQvamV1Nac",
        "outputId": "b7d13c8a-483a-4da7-81d8-35cf4bcaad4b"
      },
      "execution_count": 128,
      "outputs": [
        {
          "output_type": "display_data",
          "data": {
            "text/plain": [
              "<Figure size 640x480 with 1 Axes>"
            ],
            "image/png": "[encoded data removed]"
          },
          "metadata": {}
        }
      ]
    },
    {
      "cell_type": "code",
      "source": [
        "img = cv2.imread(\"/content/image/alphabet_letters/w.png\")\n",
        "img = cv2.resize(img, (128,128))\n",
        "img = cv2.cvtColor(img, cv2.COLOR_BGR2GRAY)\n",
        "plt.imshow(img)\n",
        "plt.show()\n",
        "\n",
        "img = np.array(img, dtype = 'float32')\n",
        "img = np.expand_dims(img, axis = 2)\n",
        "img = img.reshape(-1, 128, 128, 1)\n",
        "prediction = model.predict(img)\n",
        "np.argmax(prediction)\n",
        "\n",
        "labelNames = \"0123456789\"\n",
        "labelNames += \"ABCDEFGHIJKLMNOPQRSTUVWXYZ\"\n",
        "print(\"\\npredict: {}\".format(labelNames[np.argmax(prediction)]))"
      ],
      "metadata": {
        "colab": {
          "base_uri": "https://localhost:8080/",
          "height": 489
        },
        "id": "c7PfW7qD1YAw",
        "outputId": "5b78e46a-e51a-4020-f746-22353b3a59d2"
      },
      "execution_count": 132,
      "outputs": [
        {
          "output_type": "display_data",
          "data": {
            "text/plain": [
              "<Figure size 640x480 with 1 Axes>"
            ],
            "image/png": "[encoded data removed]"
          },
          "metadata": {}
        },
        {
          "output_type": "stream",
          "name": "stdout",
          "text": [
            "1/1 [==============================] - 0s 39ms/step\n",
            "\n",
            "predict: M\n"
          ]
        }
      ]
    },
    {
      "cell_type": "code",
      "source": [],
      "metadata": {
        "id": "bQHaFB_l2Q95"
      },
      "execution_count": null,
      "outputs": []
    }
  ]
}