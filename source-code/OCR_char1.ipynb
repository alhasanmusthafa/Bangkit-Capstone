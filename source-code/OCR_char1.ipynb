{
  "cells": [
    {
      "cell_type": "code",
      "execution_count": null,
      "metadata": {
        "id": "bdg7CJ50jWp3"
      },
      "outputs": [],
      "source": [
        "from google.colab import files, drive\n",
        "import os\n",
        "from tensorflow.keras.preprocessing.image import img_to_array, load_img, ImageDataGenerator\n",
        "from tensorflow.keras.models import *\n",
        "import zipfile\n",
        "from tensorflow import keras\n",
        "import tensorflow as tf\n",
        "import cv2\n",
        "import numpy as np\n",
        "import matplotlib.pyplot as plt"
      ]
    },
    {
      "cell_type": "markdown",
      "source": [
        "# **Connect to Kaggle API**"
      ],
      "metadata": {
        "id": "sjR_1g5cLoqb"
      }
    },
    {
      "cell_type": "code",
      "execution_count": null,
      "metadata": {
        "colab": {
          "base_uri": "https://localhost:8080/",
          "height": 92
        },
        "id": "ueSBsGyAj4ca",
        "outputId": "b6e492bf-e3b9-405e-a07a-65d0a20b5a42"
      },
      "outputs": [
        {
          "output_type": "display_data",
          "data": {
            "text/plain": [
              "<IPython.core.display.HTML object>"
            ],
            "text/html": [
              "\n",
              "     <input type=\"file\" id=\"files-e4bd214c-d48b-4249-b75a-ae0436f32a75\" name=\"files[]\" multiple disabled\n",
              "        style=\"border:none\" />\n",
              "     <output id=\"result-e4bd214c-d48b-4249-b75a-ae0436f32a75\">\n",
              "      Upload widget is only available when the cell has been executed in the\n",
              "      current browser session. Please rerun this cell to enable.\n",
              "      </output>\n",
              "      <script>// Copyright 2017 Google LLC\n",
              "//\n",
              "// Licensed under the Apache License, Version 2.0 (the \"License\");\n",
              "// you may not use this file except in compliance with the License.\n",
              "// You may obtain a copy of the License at\n",
              "//\n",
              "//      http://www.apache.org/licenses/LICENSE-2.0\n",
              "//\n",
              "// Unless required by applicable law or agreed to in writing, software\n",
              "// distributed under the License is distributed on an \"AS IS\" BASIS,\n",
              "// WITHOUT WARRANTIES OR CONDITIONS OF ANY KIND, either express or implied.\n",
              "// See the License for the specific language governing permissions and\n",
              "// limitations under the License.\n",
              "\n",
              "/**\n",
              " * @fileoverview Helpers for google.colab Python module.\n",
              " */\n",
              "(function(scope) {\n",
              "function span(text, styleAttributes = {}) {\n",
              "  const element = document.createElement('span');\n",
              "  element.textContent = text;\n",
              "  for (const key of Object.keys(styleAttributes)) {\n",
              "    element.style[key] = styleAttributes[key];\n",
              "  }\n",
              "  return element;\n",
              "}\n",
              "\n",
              "// Max number of bytes which will be uploaded at a time.\n",
              "const MAX_PAYLOAD_SIZE = 100 * 1024;\n",
              "\n",
              "function _uploadFiles(inputId, outputId) {\n",
              "  const steps = uploadFilesStep(inputId, outputId);\n",
              "  const outputElement = document.getElementById(outputId);\n",
              "  // Cache steps on the outputElement to make it available for the next call\n",
              "  // to uploadFilesContinue from Python.\n",
              "  outputElement.steps = steps;\n",
              "\n",
              "  return _uploadFilesContinue(outputId);\n",
              "}\n",
              "\n",
              "// This is roughly an async generator (not supported in the browser yet),\n",
              "// where there are multiple asynchronous steps and the Python side is going\n",
              "// to poll for completion of each step.\n",
              "// This uses a Promise to block the python side on completion of each step,\n",
              "// then passes the result of the previous step as the input to the next step.\n",
              "function _uploadFilesContinue(outputId) {\n",
              "  const outputElement = document.getElementById(outputId);\n",
              "  const steps = outputElement.steps;\n",
              "\n",
              "  const next = steps.next(outputElement.lastPromiseValue);\n",
              "  return Promise.resolve(next.value.promise).then((value) => {\n",
              "    // Cache the last promise value to make it available to the next\n",
              "    // step of the generator.\n",
              "    outputElement.lastPromiseValue = value;\n",
              "    return next.value.response;\n",
              "  });\n",
              "}\n",
              "\n",
              "/**\n",
              " * Generator function which is called between each async step of the upload\n",
              " * process.\n",
              " * @param {string} inputId Element ID of the input file picker element.\n",
              " * @param {string} outputId Element ID of the output display.\n",
              " * @return {!Iterable<!Object>} Iterable of next steps.\n",
              " */\n",
              "function* uploadFilesStep(inputId, outputId) {\n",
              "  const inputElement = document.getElementById(inputId);\n",
              "  inputElement.disabled = false;\n",
              "\n",
              "  const outputElement = document.getElementById(outputId);\n",
              "  outputElement.innerHTML = '';\n",
              "\n",
              "  const pickedPromise = new Promise((resolve) => {\n",
              "    inputElement.addEventListener('change', (e) => {\n",
              "      resolve(e.target.files);\n",
              "    });\n",
              "  });\n",
              "\n",
              "  const cancel = document.createElement('button');\n",
              "  inputElement.parentElement.appendChild(cancel);\n",
              "  cancel.textContent = 'Cancel upload';\n",
              "  const cancelPromise = new Promise((resolve) => {\n",
              "    cancel.onclick = () => {\n",
              "      resolve(null);\n",
              "    };\n",
              "  });\n",
              "\n",
              "  // Wait for the user to pick the files.\n",
              "  const files = yield {\n",
              "    promise: Promise.race([pickedPromise, cancelPromise]),\n",
              "    response: {\n",
              "      action: 'starting',\n",
              "    }\n",
              "  };\n",
              "\n",
              "  cancel.remove();\n",
              "\n",
              "  // Disable the input element since further picks are not allowed.\n",
              "  inputElement.disabled = true;\n",
              "\n",
              "  if (!files) {\n",
              "    return {\n",
              "      response: {\n",
              "        action: 'complete',\n",
              "      }\n",
              "    };\n",
              "  }\n",
              "\n",
              "  for (const file of files) {\n",
              "    const li = document.createElement('li');\n",
              "    li.append(span(file.name, {fontWeight: 'bold'}));\n",
              "    li.append(span(\n",
              "        `(${file.type || 'n/a'}) - ${file.size} bytes, ` +\n",
              "        `last modified: ${\n",
              "            file.lastModifiedDate ? file.lastModifiedDate.toLocaleDateString() :\n",
              "                                    'n/a'} - `));\n",
              "    const percent = span('0% done');\n",
              "    li.appendChild(percent);\n",
              "\n",
              "    outputElement.appendChild(li);\n",
              "\n",
              "    const fileDataPromise = new Promise((resolve) => {\n",
              "      const reader = new FileReader();\n",
              "      reader.onload = (e) => {\n",
              "        resolve(e.target.result);\n",
              "      };\n",
              "      reader.readAsArrayBuffer(file);\n",
              "    });\n",
              "    // Wait for the data to be ready.\n",
              "    let fileData = yield {\n",
              "      promise: fileDataPromise,\n",
              "      response: {\n",
              "        action: 'continue',\n",
              "      }\n",
              "    };\n",
              "\n",
              "    // Use a chunked sending to avoid message size limits. See b/62115660.\n",
              "    let position = 0;\n",
              "    do {\n",
              "      const length = Math.min(fileData.byteLength - position, MAX_PAYLOAD_SIZE);\n",
              "      const chunk = new Uint8Array(fileData, position, length);\n",
              "      position += length;\n",
              "\n",
              "      const base64 = btoa(String.fromCharCode.apply(null, chunk));\n",
              "      yield {\n",
              "        response: {\n",
              "          action: 'append',\n",
              "          file: file.name,\n",
              "          data: base64,\n",
              "        },\n",
              "      };\n",
              "\n",
              "      let percentDone = fileData.byteLength === 0 ?\n",
              "          100 :\n",
              "          Math.round((position / fileData.byteLength) * 100);\n",
              "      percent.textContent = `${percentDone}% done`;\n",
              "\n",
              "    } while (position < fileData.byteLength);\n",
              "  }\n",
              "\n",
              "  // All done.\n",
              "  yield {\n",
              "    response: {\n",
              "      action: 'complete',\n",
              "    }\n",
              "  };\n",
              "}\n",
              "\n",
              "scope.google = scope.google || {};\n",
              "scope.google.colab = scope.google.colab || {};\n",
              "scope.google.colab._files = {\n",
              "  _uploadFiles,\n",
              "  _uploadFilesContinue,\n",
              "};\n",
              "})(self);\n",
              "</script> "
            ]
          },
          "metadata": {}
        },
        {
          "output_type": "stream",
          "name": "stdout",
          "text": [
            "Saving kaggle.json to kaggle (1).json\n"
          ]
        },
        {
          "output_type": "execute_result",
          "data": {
            "text/plain": [
              "{'kaggle.json': b'{\"username\":\"muhammadzidana\",\"key\":\"f8e3dd095c56946bddfc336e9fce7d9d\"}'}"
            ]
          },
          "metadata": {},
          "execution_count": 39
        }
      ],
      "source": [
        "#upload kaggle json\n",
        "\n",
        "files.upload()"
      ]
    },
    {
      "cell_type": "code",
      "execution_count": null,
      "metadata": {
        "id": "p_9eU7wrkGct",
        "colab": {
          "base_uri": "https://localhost:8080/"
        },
        "outputId": "b162bec1-7269-4bd0-a127-d255de499799"
      },
      "outputs": [
        {
          "output_type": "stream",
          "name": "stdout",
          "text": [
            "mkdir: cannot create directory ‘/root/.kaggle’: File exists\n"
          ]
        }
      ],
      "source": [
        "#create a kaggle folder\n",
        "!mkdir ~/.kaggle"
      ]
    },
    {
      "cell_type": "code",
      "execution_count": null,
      "metadata": {
        "id": "KTB_7xZdmYuR"
      },
      "outputs": [],
      "source": [
        "#copy kaggle.json to folder created\n",
        "!cp kaggle.json ~/.kaggle/\n",
        "\n",
        "#permission for the json to act\n",
        "! chmod 600 ~/.kaggle/kaggle.json"
      ]
    },
    {
      "cell_type": "code",
      "execution_count": null,
      "metadata": {
        "id": "5MzMv8y8ovf-",
        "colab": {
          "base_uri": "https://localhost:8080/"
        },
        "outputId": "25bf12b5-d703-4f5c-fa0d-d8e808b5b6e2"
      },
      "outputs": [
        {
          "output_type": "stream",
          "name": "stdout",
          "text": [
            "standard-ocr-dataset.zip: Skipping, found more recently modified local copy (use --force to force download)\n"
          ]
        }
      ],
      "source": [
        "!kaggle datasets download -d preatcher/standard-ocr-dataset"
      ]
    },
    {
      "cell_type": "markdown",
      "source": [
        "# **Load Image**"
      ],
      "metadata": {
        "id": "kF0EoePmLu9E"
      }
    },
    {
      "cell_type": "code",
      "execution_count": null,
      "metadata": {
        "id": "v8d3T334pzq3"
      },
      "outputs": [],
      "source": [
        "test_local_zip = '/content/standard-ocr-dataset.zip'\n",
        "zip_ref = zipfile.ZipFile(test_local_zip, 'r')\n",
        "zip_ref.extractall('/tmp/dataset')\n",
        "\n",
        "zip_ref.close()"
      ]
    },
    {
      "cell_type": "code",
      "execution_count": null,
      "metadata": {
        "id": "bnrcIgmlp22O",
        "colab": {
          "base_uri": "https://localhost:8080/"
        },
        "outputId": "f7945b31-6c9a-4812-cfc5-15c2b599a961"
      },
      "outputs": [
        {
          "output_type": "execute_result",
          "data": {
            "text/plain": [
              "['data2', 'data']"
            ]
          },
          "metadata": {},
          "execution_count": 7
        }
      ],
      "source": [
        "os.listdir('/tmp/dataset')"
      ]
    },
    {
      "cell_type": "code",
      "execution_count": null,
      "metadata": {
        "colab": {
          "base_uri": "https://localhost:8080/"
        },
        "id": "W3-8qb6nq-it",
        "outputId": "c1bbd3d0-9688-4a84-cb89-ab6b459a095e"
      },
      "outputs": [
        {
          "output_type": "execute_result",
          "data": {
            "text/plain": [
              "['testing_data', 'training_data']"
            ]
          },
          "metadata": {},
          "execution_count": 8
        }
      ],
      "source": [
        "source_dir = '/tmp/dataset/data'\n",
        "os.listdir(source_dir)\n",
        "     "
      ]
    },
    {
      "cell_type": "code",
      "execution_count": null,
      "metadata": {
        "id": "xChwygzOrB0d"
      },
      "outputs": [],
      "source": [
        "training_data_dir = os.path.join(source_dir, 'training_data')\n",
        "validation_data_dir = os.path.join(source_dir, 'testing_data')"
      ]
    },
    {
      "cell_type": "code",
      "execution_count": null,
      "metadata": {
        "colab": {
          "base_uri": "https://localhost:8080/"
        },
        "id": "LPaJXqbwrPLp",
        "outputId": "09835f36-1daa-4d67-993c-96e46e3b2ac7"
      },
      "outputs": [
        {
          "output_type": "stream",
          "name": "stdout",
          "text": [
            "len of folders in training data dir: 36\n",
            "len of folders in validation data dir: 36\n"
          ]
        }
      ],
      "source": [
        "print('len of folders in training data dir: {}'.format(len(os.listdir(training_data_dir))))\n",
        "print('len of folders in validation data dir: {}'.format(len(os.listdir(validation_data_dir))))"
      ]
    },
    {
      "cell_type": "code",
      "execution_count": null,
      "metadata": {
        "id": "E5QWIg5RrURZ"
      },
      "outputs": [],
      "source": [
        "k = os.listdir(training_data_dir)[0]\n",
        "k = os.path.join(training_data_dir, k)"
      ]
    },
    {
      "cell_type": "code",
      "execution_count": null,
      "metadata": {
        "colab": {
          "base_uri": "https://localhost:8080/"
        },
        "id": "SMuE3QZicKRi",
        "outputId": "ab951f10-ca0c-4d53-eb09-b3f09f75933b"
      },
      "outputs": [
        {
          "output_type": "stream",
          "name": "stdout",
          "text": [
            "/tmp/dataset/data/training_data/P\n"
          ]
        }
      ],
      "source": [
        "print(k)"
      ]
    },
    {
      "cell_type": "code",
      "execution_count": null,
      "metadata": {
        "id": "n-f24dAjcO3C"
      },
      "outputs": [],
      "source": [
        "k_img = []\n",
        "for index in range (len(k)):\n",
        "  img = cv2.imread(os.path.join(k, os.listdir(k)[index]))\n",
        "  k_img.append(img)"
      ]
    },
    {
      "cell_type": "code",
      "execution_count": null,
      "metadata": {
        "id": "Y1X2Pr0ucUAi",
        "colab": {
          "base_uri": "https://localhost:8080/"
        },
        "outputId": "5e6b8c51-388a-4deb-89b3-674ae54acc97"
      },
      "outputs": [
        {
          "output_type": "execute_result",
          "data": {
            "text/plain": [
              "(41, 28, 3)"
            ]
          },
          "metadata": {},
          "execution_count": 14
        }
      ],
      "source": [
        "k_img[0].shape"
      ]
    },
    {
      "cell_type": "markdown",
      "source": [
        "# **Preprocessing Image**"
      ],
      "metadata": {
        "id": "jpRI-joLL-Ec"
      }
    },
    {
      "cell_type": "code",
      "execution_count": null,
      "metadata": {
        "id": "VO_tNW8GprT-"
      },
      "outputs": [],
      "source": [
        "img_size = 128\n",
        "input_shape = (128,128,1)"
      ]
    },
    {
      "cell_type": "code",
      "source": [
        "train_datagen = ImageDataGenerator(\n",
        "    rescale = 1./255,\n",
        "    width_shift_range = 0.2,\n",
        "    height_shift_range = 0.2,\n",
        "    shear_range = 0.2,\n",
        "    zoom_range = 0.2,\n",
        "    horizontal_flip = True,\n",
        "    fill_mode = 'nearest'\n",
        ")\n",
        "\n",
        "validation_datagen = ImageDataGenerator(\n",
        "    rescale = 1./255\n",
        ")\n",
        "\n",
        "training_generator = train_datagen.flow_from_directory(training_data_dir,\n",
        "                                                 target_size = (img_size, img_size),\n",
        "                                                 batch_size = 382,  # 20628 // 54 = 382\n",
        "                                                 color_mode = 'grayscale',\n",
        "                                                 class_mode = 'categorical',\n",
        "    \n",
        ")\n",
        "\n",
        "validation_generator = validation_datagen.flow_from_directory(validation_data_dir,\n",
        "                                                 target_size = (img_size, img_size),\n",
        "                                                 batch_size = 36, #1008 // 28 = 36 \n",
        "                                                 color_mode = 'grayscale',\n",
        "                                                 class_mode = 'categorical',\n",
        "    \n",
        ")"
      ],
      "metadata": {
        "id": "kMq4y5zbWV6K",
        "colab": {
          "base_uri": "https://localhost:8080/"
        },
        "outputId": "5ddbdcdc-674a-4908-e5e4-d1077b613ab8"
      },
      "execution_count": null,
      "outputs": [
        {
          "output_type": "stream",
          "name": "stdout",
          "text": [
            "Found 20628 images belonging to 36 classes.\n",
            "Found 1008 images belonging to 36 classes.\n"
          ]
        }
      ]
    },
    {
      "cell_type": "code",
      "source": [
        "#create a model\n",
        "model = tf.keras.models.Sequential([\n",
        "      tf.keras.layers.Conv2D(32,(5,5), activation ='relu', input_shape=input_shape), \n",
        "      tf.keras.layers.MaxPooling2D(2,2),\n",
        "      tf.keras.layers.Conv2D(64, (3,3), activation = 'relu'),\n",
        "      tf.keras.layers.MaxPooling2D(2,2),\n",
        "      tf.keras.layers.Conv2D(128, (3,3), activation = 'relu'),\n",
        "      tf.keras.layers.MaxPooling2D(2,2),\n",
        "      tf.keras.layers.Conv2D(256, (3,3), activation = 'relu'),\n",
        "      tf.keras.layers.MaxPooling2D(2,2),\n",
        "\n",
        "      tf.keras.layers.Flatten(),\n",
        "      tf.keras.layers.Dropout(0.2),\n",
        "\n",
        "      tf.keras.layers.Dense(256, activation = 'relu'),\n",
        "      tf.keras.layers.Dense(36, activation='softmax'),\n",
        "\n",
        "\n",
        "\n",
        "])\n",
        "model.summary()"
      ],
      "metadata": {
        "colab": {
          "base_uri": "https://localhost:8080/"
        },
        "id": "rYYvL24bWoUk",
        "outputId": "d4a64ff5-1a59-4b67-de75-9b5ac823b8d4"
      },
      "execution_count": null,
      "outputs": [
        {
          "output_type": "stream",
          "name": "stdout",
          "text": [
            "Model: \"sequential\"\n",
            "_________________________________________________________________\n",
            " Layer (type)                Output Shape              Param #   \n",
            "=================================================================\n",
            " conv2d (Conv2D)             (None, 124, 124, 32)      832       \n",
            "                                                                 \n",
            " max_pooling2d (MaxPooling2D  (None, 62, 62, 32)       0         \n",
            " )                                                               \n",
            "                                                                 \n",
            " conv2d_1 (Conv2D)           (None, 60, 60, 64)        18496     \n",
            "                                                                 \n",
            " max_pooling2d_1 (MaxPooling  (None, 30, 30, 64)       0         \n",
            " 2D)                                                             \n",
            "                                                                 \n",
            " conv2d_2 (Conv2D)           (None, 28, 28, 128)       73856     \n",
            "                                                                 \n",
            " max_pooling2d_2 (MaxPooling  (None, 14, 14, 128)      0         \n",
            " 2D)                                                             \n",
            "                                                                 \n",
            " conv2d_3 (Conv2D)           (None, 12, 12, 256)       295168    \n",
            "                                                                 \n",
            " max_pooling2d_3 (MaxPooling  (None, 6, 6, 256)        0         \n",
            " 2D)                                                             \n",
            "                                                                 \n",
            " flatten (Flatten)           (None, 9216)              0         \n",
            "                                                                 \n",
            " dropout (Dropout)           (None, 9216)              0         \n",
            "                                                                 \n",
            " dense (Dense)               (None, 256)               2359552   \n",
            "                                                                 \n",
            " dense_1 (Dense)             (None, 36)                9252      \n",
            "                                                                 \n",
            "=================================================================\n",
            "Total params: 2,757,156\n",
            "Trainable params: 2,757,156\n",
            "Non-trainable params: 0\n",
            "_________________________________________________________________\n"
          ]
        }
      ]
    },
    {
      "cell_type": "code",
      "source": [
        "model.compile(loss = 'categorical_crossentropy',\n",
        "              optimizer = 'adam',\n",
        "              metrics = ['accuracy'])"
      ],
      "metadata": {
        "id": "2hgre9dpXsF4"
      },
      "execution_count": null,
      "outputs": []
    },
    {
      "cell_type": "markdown",
      "source": [
        "# **Train the model**"
      ],
      "metadata": {
        "id": "DMQGrdGLWrs1"
      }
    },
    {
      "cell_type": "code",
      "source": [
        "history = model.fit(training_generator,\n",
        "                            steps_per_epoch = 54,\n",
        "                            epochs = 100,\n",
        "                            validation_data = validation_generator,\n",
        "                            validation_steps = 28,\n",
        "                            verbose = 1)"
      ],
      "metadata": {
        "colab": {
          "base_uri": "https://localhost:8080/"
        },
        "id": "WHLg_xoAB-ys",
        "outputId": "e653f0dd-1de4-4dae-a409-997b62be43d2"
      },
      "execution_count": null,
      "outputs": [
        {
          "output_type": "stream",
          "name": "stdout",
          "text": [
            "Epoch 1/100\n",
            "54/54 [==============================] - 52s 693ms/step - loss: 2.9654 - accuracy: 0.1830 - val_loss: 0.9881 - val_accuracy: 0.7192\n",
            "Epoch 2/100\n",
            "54/54 [==============================] - 39s 720ms/step - loss: 1.4541 - accuracy: 0.5664 - val_loss: 0.3968 - val_accuracy: 0.9107\n",
            "Epoch 3/100\n",
            "54/54 [==============================] - 38s 698ms/step - loss: 0.9721 - accuracy: 0.7113 - val_loss: 0.2806 - val_accuracy: 0.9226\n",
            "Epoch 4/100\n",
            "54/54 [==============================] - 38s 695ms/step - loss: 0.7597 - accuracy: 0.7778 - val_loss: 0.2173 - val_accuracy: 0.9335\n",
            "Epoch 5/100\n",
            "54/54 [==============================] - 38s 703ms/step - loss: 0.6371 - accuracy: 0.8123 - val_loss: 0.1446 - val_accuracy: 0.9573\n",
            "Epoch 6/100\n",
            "54/54 [==============================] - 38s 691ms/step - loss: 0.5480 - accuracy: 0.8400 - val_loss: 0.1320 - val_accuracy: 0.9563\n",
            "Epoch 7/100\n",
            "54/54 [==============================] - 38s 696ms/step - loss: 0.4872 - accuracy: 0.8565 - val_loss: 0.1223 - val_accuracy: 0.9603\n",
            "Epoch 8/100\n",
            "54/54 [==============================] - 38s 711ms/step - loss: 0.4466 - accuracy: 0.8672 - val_loss: 0.1034 - val_accuracy: 0.9544\n",
            "Epoch 9/100\n",
            "54/54 [==============================] - 37s 690ms/step - loss: 0.4438 - accuracy: 0.8649 - val_loss: 0.1003 - val_accuracy: 0.9593\n",
            "Epoch 10/100\n",
            "54/54 [==============================] - 37s 686ms/step - loss: 0.3984 - accuracy: 0.8814 - val_loss: 0.0782 - val_accuracy: 0.9673\n",
            "Epoch 11/100\n",
            "54/54 [==============================] - 37s 692ms/step - loss: 0.3661 - accuracy: 0.8891 - val_loss: 0.0669 - val_accuracy: 0.9792\n",
            "Epoch 12/100\n",
            "54/54 [==============================] - 37s 687ms/step - loss: 0.3590 - accuracy: 0.8904 - val_loss: 0.0765 - val_accuracy: 0.9712\n",
            "Epoch 13/100\n",
            "54/54 [==============================] - 37s 686ms/step - loss: 0.3333 - accuracy: 0.8992 - val_loss: 0.0866 - val_accuracy: 0.9692\n",
            "Epoch 14/100\n",
            "54/54 [==============================] - 38s 707ms/step - loss: 0.3305 - accuracy: 0.8965 - val_loss: 0.0768 - val_accuracy: 0.9663\n",
            "Epoch 15/100\n",
            "54/54 [==============================] - 38s 697ms/step - loss: 0.3170 - accuracy: 0.9018 - val_loss: 0.0530 - val_accuracy: 0.9831\n",
            "Epoch 16/100\n",
            "54/54 [==============================] - 37s 690ms/step - loss: 0.3024 - accuracy: 0.9045 - val_loss: 0.0783 - val_accuracy: 0.9692\n",
            "Epoch 17/100\n",
            "54/54 [==============================] - 38s 696ms/step - loss: 0.2939 - accuracy: 0.9085 - val_loss: 0.0730 - val_accuracy: 0.9782\n",
            "Epoch 18/100\n",
            "54/54 [==============================] - 38s 696ms/step - loss: 0.2802 - accuracy: 0.9102 - val_loss: 0.0653 - val_accuracy: 0.9762\n",
            "Epoch 19/100\n",
            "54/54 [==============================] - 38s 696ms/step - loss: 0.2719 - accuracy: 0.9115 - val_loss: 0.0541 - val_accuracy: 0.9802\n",
            "Epoch 20/100\n",
            "54/54 [==============================] - 39s 713ms/step - loss: 0.2630 - accuracy: 0.9143 - val_loss: 0.0483 - val_accuracy: 0.9762\n",
            "Epoch 21/100\n",
            "54/54 [==============================] - 38s 697ms/step - loss: 0.2611 - accuracy: 0.9149 - val_loss: 0.0697 - val_accuracy: 0.9742\n",
            "Epoch 22/100\n",
            "54/54 [==============================] - 38s 695ms/step - loss: 0.2525 - accuracy: 0.9190 - val_loss: 0.0595 - val_accuracy: 0.9712\n",
            "Epoch 23/100\n",
            "54/54 [==============================] - 38s 696ms/step - loss: 0.2480 - accuracy: 0.9201 - val_loss: 0.0449 - val_accuracy: 0.9831\n",
            "Epoch 24/100\n",
            "54/54 [==============================] - 37s 693ms/step - loss: 0.2463 - accuracy: 0.9229 - val_loss: 0.0506 - val_accuracy: 0.9812\n",
            "Epoch 25/100\n",
            "54/54 [==============================] - 37s 690ms/step - loss: 0.2313 - accuracy: 0.9272 - val_loss: 0.0469 - val_accuracy: 0.9802\n",
            "Epoch 26/100\n",
            "54/54 [==============================] - 38s 710ms/step - loss: 0.2337 - accuracy: 0.9241 - val_loss: 0.0518 - val_accuracy: 0.9812\n",
            "Epoch 27/100\n",
            "54/54 [==============================] - 38s 694ms/step - loss: 0.2419 - accuracy: 0.9189 - val_loss: 0.0463 - val_accuracy: 0.9782\n",
            "Epoch 28/100\n",
            "54/54 [==============================] - 38s 700ms/step - loss: 0.2320 - accuracy: 0.9240 - val_loss: 0.0411 - val_accuracy: 0.9841\n",
            "Epoch 29/100\n",
            "54/54 [==============================] - 37s 692ms/step - loss: 0.2212 - accuracy: 0.9258 - val_loss: 0.0557 - val_accuracy: 0.9831\n",
            "Epoch 30/100\n",
            "54/54 [==============================] - 37s 685ms/step - loss: 0.2276 - accuracy: 0.9252 - val_loss: 0.0581 - val_accuracy: 0.9782\n",
            "Epoch 31/100\n",
            "54/54 [==============================] - 37s 685ms/step - loss: 0.2262 - accuracy: 0.9268 - val_loss: 0.0467 - val_accuracy: 0.9812\n",
            "Epoch 32/100\n",
            "54/54 [==============================] - 39s 713ms/step - loss: 0.2191 - accuracy: 0.9297 - val_loss: 0.0714 - val_accuracy: 0.9653\n",
            "Epoch 33/100\n",
            "54/54 [==============================] - 37s 689ms/step - loss: 0.2019 - accuracy: 0.9315 - val_loss: 0.0397 - val_accuracy: 0.9851\n",
            "Epoch 34/100\n",
            "54/54 [==============================] - 37s 682ms/step - loss: 0.1981 - accuracy: 0.9338 - val_loss: 0.0570 - val_accuracy: 0.9861\n",
            "Epoch 35/100\n",
            "54/54 [==============================] - 37s 690ms/step - loss: 0.1969 - accuracy: 0.9347 - val_loss: 0.0514 - val_accuracy: 0.9742\n",
            "Epoch 36/100\n",
            "54/54 [==============================] - 37s 691ms/step - loss: 0.2020 - accuracy: 0.9343 - val_loss: 0.0376 - val_accuracy: 0.9851\n",
            "Epoch 37/100\n",
            "54/54 [==============================] - 37s 684ms/step - loss: 0.1898 - accuracy: 0.9378 - val_loss: 0.0628 - val_accuracy: 0.9742\n",
            "Epoch 38/100\n",
            "54/54 [==============================] - 38s 709ms/step - loss: 0.1918 - accuracy: 0.9354 - val_loss: 0.0497 - val_accuracy: 0.9792\n",
            "Epoch 39/100\n",
            "54/54 [==============================] - 41s 752ms/step - loss: 0.1895 - accuracy: 0.9363 - val_loss: 0.0445 - val_accuracy: 0.9762\n",
            "Epoch 40/100\n",
            "54/54 [==============================] - 38s 696ms/step - loss: 0.1845 - accuracy: 0.9367 - val_loss: 0.0317 - val_accuracy: 0.9881\n",
            "Epoch 41/100\n",
            "54/54 [==============================] - 37s 690ms/step - loss: 0.1820 - accuracy: 0.9401 - val_loss: 0.0423 - val_accuracy: 0.9821\n",
            "Epoch 42/100\n",
            "54/54 [==============================] - 37s 692ms/step - loss: 0.1797 - accuracy: 0.9404 - val_loss: 0.0412 - val_accuracy: 0.9772\n",
            "Epoch 43/100\n",
            "54/54 [==============================] - 39s 705ms/step - loss: 0.1879 - accuracy: 0.9363 - val_loss: 0.0471 - val_accuracy: 0.9782\n",
            "Epoch 44/100\n",
            "54/54 [==============================] - 37s 691ms/step - loss: 0.1884 - accuracy: 0.9370 - val_loss: 0.0353 - val_accuracy: 0.9851\n",
            "Epoch 45/100\n",
            "54/54 [==============================] - 37s 691ms/step - loss: 0.1781 - accuracy: 0.9407 - val_loss: 0.0277 - val_accuracy: 0.9931\n",
            "Epoch 46/100\n",
            "54/54 [==============================] - 37s 688ms/step - loss: 0.1825 - accuracy: 0.9391 - val_loss: 0.0353 - val_accuracy: 0.9821\n",
            "Epoch 47/100\n",
            "54/54 [==============================] - 37s 684ms/step - loss: 0.1769 - accuracy: 0.9399 - val_loss: 0.0319 - val_accuracy: 0.9881\n",
            "Epoch 48/100\n",
            "54/54 [==============================] - 37s 684ms/step - loss: 0.1720 - accuracy: 0.9406 - val_loss: 0.0317 - val_accuracy: 0.9871\n",
            "Epoch 49/100\n",
            "54/54 [==============================] - 38s 706ms/step - loss: 0.1766 - accuracy: 0.9404 - val_loss: 0.0265 - val_accuracy: 0.9931\n",
            "Epoch 50/100\n",
            "54/54 [==============================] - 37s 687ms/step - loss: 0.1699 - accuracy: 0.9432 - val_loss: 0.0321 - val_accuracy: 0.9861\n",
            "Epoch 51/100\n",
            "54/54 [==============================] - 37s 691ms/step - loss: 0.1619 - accuracy: 0.9443 - val_loss: 0.0288 - val_accuracy: 0.9861\n",
            "Epoch 52/100\n",
            "54/54 [==============================] - 37s 693ms/step - loss: 0.1650 - accuracy: 0.9435 - val_loss: 0.0325 - val_accuracy: 0.9831\n",
            "Epoch 53/100\n",
            "54/54 [==============================] - 39s 728ms/step - loss: 0.1662 - accuracy: 0.9438 - val_loss: 0.0483 - val_accuracy: 0.9752\n",
            "Epoch 54/100\n",
            "54/54 [==============================] - 39s 713ms/step - loss: 0.1625 - accuracy: 0.9456 - val_loss: 0.0313 - val_accuracy: 0.9812\n",
            "Epoch 55/100\n",
            "54/54 [==============================] - 39s 723ms/step - loss: 0.1570 - accuracy: 0.9461 - val_loss: 0.0281 - val_accuracy: 0.9911\n",
            "Epoch 56/100\n",
            "54/54 [==============================] - 38s 701ms/step - loss: 0.1592 - accuracy: 0.9467 - val_loss: 0.0429 - val_accuracy: 0.9762\n",
            "Epoch 57/100\n",
            "54/54 [==============================] - 39s 711ms/step - loss: 0.1639 - accuracy: 0.9443 - val_loss: 0.0303 - val_accuracy: 0.9891\n",
            "Epoch 58/100\n",
            "54/54 [==============================] - 38s 696ms/step - loss: 0.1608 - accuracy: 0.9458 - val_loss: 0.0418 - val_accuracy: 0.9772\n",
            "Epoch 59/100\n",
            "54/54 [==============================] - 38s 704ms/step - loss: 0.1541 - accuracy: 0.9475 - val_loss: 0.0281 - val_accuracy: 0.9871\n",
            "Epoch 60/100\n",
            "54/54 [==============================] - 38s 702ms/step - loss: 0.1469 - accuracy: 0.9514 - val_loss: 0.0263 - val_accuracy: 0.9931\n",
            "Epoch 61/100\n",
            "54/54 [==============================] - 38s 710ms/step - loss: 0.1497 - accuracy: 0.9471 - val_loss: 0.0681 - val_accuracy: 0.9732\n",
            "Epoch 62/100\n",
            "54/54 [==============================] - 38s 691ms/step - loss: 0.1572 - accuracy: 0.9466 - val_loss: 0.0267 - val_accuracy: 0.9921\n",
            "Epoch 63/100\n",
            "54/54 [==============================] - 38s 688ms/step - loss: 0.1509 - accuracy: 0.9467 - val_loss: 0.0362 - val_accuracy: 0.9782\n",
            "Epoch 64/100\n",
            "54/54 [==============================] - 38s 696ms/step - loss: 0.1494 - accuracy: 0.9499 - val_loss: 0.0486 - val_accuracy: 0.9782\n",
            "Epoch 65/100\n",
            "54/54 [==============================] - 38s 699ms/step - loss: 0.1538 - accuracy: 0.9463 - val_loss: 0.0275 - val_accuracy: 0.9891\n",
            "Epoch 66/100\n",
            "54/54 [==============================] - 38s 699ms/step - loss: 0.1522 - accuracy: 0.9473 - val_loss: 0.0294 - val_accuracy: 0.9881\n",
            "Epoch 67/100\n",
            "54/54 [==============================] - 38s 704ms/step - loss: 0.1486 - accuracy: 0.9493 - val_loss: 0.0341 - val_accuracy: 0.9812\n",
            "Epoch 68/100\n",
            "54/54 [==============================] - 37s 687ms/step - loss: 0.1416 - accuracy: 0.9493 - val_loss: 0.0317 - val_accuracy: 0.9782\n",
            "Epoch 69/100\n",
            "54/54 [==============================] - 38s 707ms/step - loss: 0.1393 - accuracy: 0.9503 - val_loss: 0.0251 - val_accuracy: 0.9871\n",
            "Epoch 70/100\n",
            "54/54 [==============================] - 37s 692ms/step - loss: 0.1429 - accuracy: 0.9493 - val_loss: 0.0248 - val_accuracy: 0.9940\n",
            "Epoch 71/100\n",
            "54/54 [==============================] - 38s 695ms/step - loss: 0.1420 - accuracy: 0.9501 - val_loss: 0.0303 - val_accuracy: 0.9831\n",
            "Epoch 72/100\n",
            "54/54 [==============================] - 37s 690ms/step - loss: 0.1498 - accuracy: 0.9469 - val_loss: 0.0277 - val_accuracy: 0.9911\n",
            "Epoch 73/100\n",
            "54/54 [==============================] - 39s 718ms/step - loss: 0.1381 - accuracy: 0.9518 - val_loss: 0.0407 - val_accuracy: 0.9891\n",
            "Epoch 74/100\n",
            "54/54 [==============================] - 38s 694ms/step - loss: 0.1410 - accuracy: 0.9507 - val_loss: 0.0287 - val_accuracy: 0.9881\n",
            "Epoch 75/100\n",
            "54/54 [==============================] - 37s 692ms/step - loss: 0.1386 - accuracy: 0.9511 - val_loss: 0.0250 - val_accuracy: 0.9921\n",
            "Epoch 76/100\n",
            "54/54 [==============================] - 39s 721ms/step - loss: 0.1381 - accuracy: 0.9514 - val_loss: 0.0283 - val_accuracy: 0.9871\n",
            "Epoch 77/100\n",
            "54/54 [==============================] - 38s 709ms/step - loss: 0.1429 - accuracy: 0.9484 - val_loss: 0.0462 - val_accuracy: 0.9762\n",
            "Epoch 78/100\n",
            "54/54 [==============================] - 38s 696ms/step - loss: 0.1371 - accuracy: 0.9524 - val_loss: 0.0363 - val_accuracy: 0.9782\n",
            "Epoch 79/100\n",
            "54/54 [==============================] - 39s 723ms/step - loss: 0.1414 - accuracy: 0.9508 - val_loss: 0.0262 - val_accuracy: 0.9931\n",
            "Epoch 80/100\n",
            "54/54 [==============================] - 38s 698ms/step - loss: 0.1396 - accuracy: 0.9516 - val_loss: 0.0404 - val_accuracy: 0.9782\n",
            "Epoch 81/100\n",
            "54/54 [==============================] - 38s 703ms/step - loss: 0.1340 - accuracy: 0.9538 - val_loss: 0.0284 - val_accuracy: 0.9901\n",
            "Epoch 82/100\n",
            "54/54 [==============================] - 38s 703ms/step - loss: 0.1326 - accuracy: 0.9542 - val_loss: 0.0323 - val_accuracy: 0.9802\n",
            "Epoch 83/100\n",
            "54/54 [==============================] - 39s 729ms/step - loss: 0.1376 - accuracy: 0.9528 - val_loss: 0.0301 - val_accuracy: 0.9950\n",
            "Epoch 84/100\n",
            "54/54 [==============================] - 39s 726ms/step - loss: 0.1306 - accuracy: 0.9549 - val_loss: 0.0209 - val_accuracy: 0.9970\n",
            "Epoch 85/100\n",
            "54/54 [==============================] - 40s 743ms/step - loss: 0.1314 - accuracy: 0.9538 - val_loss: 0.0356 - val_accuracy: 0.9881\n",
            "Epoch 86/100\n",
            "54/54 [==============================] - 40s 730ms/step - loss: 0.1320 - accuracy: 0.9549 - val_loss: 0.0246 - val_accuracy: 0.9940\n",
            "Epoch 87/100\n",
            "54/54 [==============================] - 39s 712ms/step - loss: 0.1317 - accuracy: 0.9537 - val_loss: 0.0386 - val_accuracy: 0.9782\n",
            "Epoch 88/100\n",
            "54/54 [==============================] - 38s 711ms/step - loss: 0.1299 - accuracy: 0.9542 - val_loss: 0.0306 - val_accuracy: 0.9831\n",
            "Epoch 89/100\n",
            "54/54 [==============================] - 39s 715ms/step - loss: 0.1309 - accuracy: 0.9548 - val_loss: 0.0380 - val_accuracy: 0.9802\n",
            "Epoch 90/100\n",
            "54/54 [==============================] - 39s 714ms/step - loss: 0.1311 - accuracy: 0.9523 - val_loss: 0.0360 - val_accuracy: 0.9782\n",
            "Epoch 91/100\n",
            "54/54 [==============================] - 40s 733ms/step - loss: 0.1246 - accuracy: 0.9547 - val_loss: 0.0241 - val_accuracy: 0.9970\n",
            "Epoch 92/100\n",
            "54/54 [==============================] - 38s 709ms/step - loss: 0.1305 - accuracy: 0.9541 - val_loss: 0.0347 - val_accuracy: 0.9772\n",
            "Epoch 93/100\n",
            "54/54 [==============================] - 39s 713ms/step - loss: 0.1244 - accuracy: 0.9570 - val_loss: 0.0382 - val_accuracy: 0.9782\n",
            "Epoch 94/100\n",
            "54/54 [==============================] - 38s 711ms/step - loss: 0.1298 - accuracy: 0.9540 - val_loss: 0.0257 - val_accuracy: 0.9911\n",
            "Epoch 95/100\n",
            "54/54 [==============================] - 38s 709ms/step - loss: 0.1241 - accuracy: 0.9555 - val_loss: 0.0269 - val_accuracy: 0.9841\n",
            "Epoch 96/100\n",
            "54/54 [==============================] - 38s 706ms/step - loss: 0.1221 - accuracy: 0.9578 - val_loss: 0.0259 - val_accuracy: 0.9851\n",
            "Epoch 97/100\n",
            "54/54 [==============================] - 40s 731ms/step - loss: 0.1195 - accuracy: 0.9566 - val_loss: 0.0225 - val_accuracy: 0.9921\n",
            "Epoch 98/100\n",
            "54/54 [==============================] - 38s 709ms/step - loss: 0.1258 - accuracy: 0.9559 - val_loss: 0.0319 - val_accuracy: 0.9821\n",
            "Epoch 99/100\n",
            "54/54 [==============================] - 38s 711ms/step - loss: 0.1240 - accuracy: 0.9564 - val_loss: 0.0217 - val_accuracy: 0.9970\n",
            "Epoch 100/100\n",
            "54/54 [==============================] - 39s 709ms/step - loss: 0.1183 - accuracy: 0.9585 - val_loss: 0.0228 - val_accuracy: 0.9940\n"
          ]
        }
      ]
    },
    {
      "cell_type": "code",
      "source": [
        "drive.mount('/content/drive')"
      ],
      "metadata": {
        "colab": {
          "base_uri": "https://localhost:8080/"
        },
        "id": "4XMUIZiJBvxl",
        "outputId": "8b8c57a4-ceba-44ac-cc65-e85b37625076"
      },
      "execution_count": null,
      "outputs": [
        {
          "output_type": "stream",
          "name": "stdout",
          "text": [
            "Mounted at /content/drive\n"
          ]
        }
      ]
    },
    {
      "cell_type": "code",
      "source": [
        "!mkdir -p ocr_model\n",
        "model.save('/content/drive/My Drive/model/model-ocr-zidan-2.h5')"
      ],
      "metadata": {
        "id": "8JB9rviwCDNz"
      },
      "execution_count": null,
      "outputs": []
    },
    {
      "cell_type": "code",
      "source": [
        "!ls ocr_model"
      ],
      "metadata": {
        "id": "RDSl_TlDc9jb"
      },
      "execution_count": null,
      "outputs": []
    },
    {
      "cell_type": "code",
      "source": [
        "model = tf.keras.models.load_model('/content/drive/My Drive/model/model-ocr-zidan-2.h5')"
      ],
      "metadata": {
        "id": "KUKEK5yYShi0"
      },
      "execution_count": null,
      "outputs": []
    },
    {
      "cell_type": "markdown",
      "source": [
        "# **Predict**"
      ],
      "metadata": {
        "id": "hkSkUc86MGMb"
      }
    },
    {
      "cell_type": "code",
      "source": [
        "img = cv2.imread(\"/content/drive/My Drive/test/alphabet/a.png\")\n",
        "img = cv2.resize(img, (128,128))\n",
        "img = cv2.cvtColor(img, cv2.COLOR_BGR2GRAY)\n",
        "plt.imshow(img)\n",
        "plt.show()\n",
        "\n",
        "img = np.array(img, dtype = 'float32')\n",
        "img = np.expand_dims(img, axis = 2)\n",
        "img = img.reshape(-1, 128, 128, 1)\n",
        "prediction = model.predict(img)\n",
        "np.argmax(prediction)\n",
        "\n",
        "labelNames = \"0123456789\"\n",
        "labelNames += \"ABCDEFGHIJKLMNOPQRSTUVWXYZ\"\n",
        "print(\"\\npredict: {}\".format(labelNames[np.argmax(prediction)]))"
      ],
      "metadata": {
        "colab": {
          "base_uri": "https://localhost:8080/",
          "height": 488
        },
        "id": "V7LEm5UbSpeS",
        "outputId": "3218f5a9-1416-4f58-ff40-b2d2e214360a"
      },
      "execution_count": null,
      "outputs": [
        {
          "output_type": "display_data",
          "data": {
            "text/plain": [
              "<Figure size 640x480 with 1 Axes>"
            ],
            "image/png": "[encoded data removed]"
          },
          "metadata": {}
        },
        {
          "output_type": "stream",
          "name": "stdout",
          "text": [
            "1/1 [==============================] - 0s 37ms/step\n",
            "\n",
            "predict: A\n"
          ]
        }
      ]
    },
    {
      "cell_type": "code",
      "source": [
        "plt.plot(history.history['accuracy'])\n",
        "plt.plot(history.history['loss'])\n",
        "plt.xlabel('Time')\n",
        "plt.legend(['accuracy', 'loss'])\n",
        "plt.show()"
      ],
      "metadata": {
        "id": "lzsJnXPDSw7v",
        "colab": {
          "base_uri": "https://localhost:8080/",
          "height": 449
        },
        "outputId": "01bbc40e-3691-4423-fd2e-80101378c3cf"
      },
      "execution_count": null,
      "outputs": [
        {
          "output_type": "display_data",
          "data": {
            "text/plain": [
              "<Figure size 640x480 with 1 Axes>"
            ],
            "image/png": "[encoded data removed]"
          },
          "metadata": {}
        }
      ]
    },
    {
      "cell_type": "code",
      "source": [],
      "metadata": {
        "id": "1RJxsb7gbROt"
      },
      "execution_count": null,
      "outputs": []
    }
  ],
  "metadata": {
    "colab": {
      "provenance": [],
      "gpuType": "T4"
    },
    "kernelspec": {
      "display_name": "Python 3",
      "name": "python3"
    },
    "language_info": {
      "name": "python"
    },
    "accelerator": "GPU",
    "gpuClass": "standard"
  },
  "nbformat": 4,
  "nbformat_minor": 0
}