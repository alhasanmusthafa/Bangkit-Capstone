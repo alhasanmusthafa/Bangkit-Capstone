{
  "nbformat": 4,
  "nbformat_minor": 0,
  "metadata": {
    "colab": {
      "provenance": []
    },
    "kernelspec": {
      "name": "python3",
      "display_name": "Python 3"
    },
    "language_info": {
      "name": "python"
    }
  },
  "cells": [
    {
      "cell_type": "code",
      "execution_count": null,
      "metadata": {
        "id": "tEjx28KaNZ6u"
      },
      "outputs": [],
      "source": [
        "import numpy as np\n",
        "import matplotlib.pyplot as plt\n",
        "import cv2\n",
        "import os\n",
        "from tensorflow.keras.models import Model\n",
        "from tensorflow.keras.layers import Input, Conv2D, MaxPooling2D, UpSampling2D, concatenate, Dropout\n",
        "from tensorflow.keras.optimizers import Adam\n",
        "from sklearn.model_selection import train_test_split\n",
        "from google.colab import drive"
      ]
    },
    {
      "cell_type": "code",
      "source": [
        "drive.mount('/content/drive')"
      ],
      "metadata": {
        "colab": {
          "base_uri": "https://localhost:8080/"
        },
        "id": "HcRqIuDvNf5c",
        "outputId": "7c9dd61d-3c0a-48a9-aac4-f2c23b066d87"
      },
      "execution_count": null,
      "outputs": [
        {
          "output_type": "stream",
          "name": "stdout",
          "text": [
            "Mounted at /content/drive\n"
          ]
        }
      ]
    },
    {
      "cell_type": "markdown",
      "source": [
        "# **Load Dataset from Drive**"
      ],
      "metadata": {
        "id": "1xbKroSsaNJW"
      }
    },
    {
      "cell_type": "code",
      "source": [
        "source = '/content/drive/MyDrive/ktp-dataset'\n",
        "#path into train and test images\n",
        "train_images = os.path.join(source, 'image')\n",
        "train_annotations = os.path.join(source, 'mask')"
      ],
      "metadata": {
        "id": "59WlBMseNk_i"
      },
      "execution_count": null,
      "outputs": []
    },
    {
      "cell_type": "code",
      "source": [
        "sorted_image = sorted(os.listdir(train_images))\n",
        "sorted_mask = sorted(os.listdir(train_annotations))"
      ],
      "metadata": {
        "id": "SHvY7dCSN9hv"
      },
      "execution_count": null,
      "outputs": []
    },
    {
      "cell_type": "code",
      "source": [
        "img_size = 512"
      ],
      "metadata": {
        "id": "7Q7XLwhsOBIS"
      },
      "execution_count": null,
      "outputs": []
    },
    {
      "cell_type": "code",
      "source": [
        "def get_segmented_img(img):\n",
        "  \n",
        "    labels=np.zeros((img_size,img_size,1))\n",
        "    img=cv2.resize(img,(img_size,img_size))\n",
        "    img=img[:,:,0]\n",
        "    labels[:,:,0]=(img!=0).astype(int)\n",
        "\n",
        "\n",
        "    return labels"
      ],
      "metadata": {
        "id": "8hM_qXavOGfC"
      },
      "execution_count": null,
      "outputs": []
    },
    {
      "cell_type": "code",
      "source": [
        "x = []\n",
        "y = []\n",
        "\n",
        "for index in range (len(os.listdir(train_images))):\n",
        "    img = cv2.imread(os.path.join(train_images, sorted_image[index]))\n",
        "    img = cv2.cvtColor(img, cv2.COLOR_BGR2GRAY)\n",
        "    ret,img=cv2.threshold(img,150,255,cv2.THRESH_BINARY_INV)\n",
        "    img=cv2.resize(img,(img_size,img_size))\n",
        "    img=np.expand_dims(img,axis=-1)\n",
        "    img=img/255\n",
        "    \n",
        "    annotation = cv2.imread(os.path.join(train_annotations, sorted_mask[index]))\n",
        "    annotation = cv2.cvtColor(annotation, cv2.COLOR_BGR2GRAY)\n",
        "    annotation=cv2.resize(annotation,(img_size,img_size))\n",
        "    annotation = np.stack((annotation,)*3, axis=-1)\n",
        "    annotation =get_segmented_img(annotation)\n",
        "    \n",
        "    x.append(img)\n",
        "    y.append(annotation)"
      ],
      "metadata": {
        "id": "7iMjn75zOIf0"
      },
      "execution_count": null,
      "outputs": []
    },
    {
      "cell_type": "code",
      "source": [
        "# Split Dataset\n",
        "x_train, x_test, y_train, y_test = train_test_split(x, y, train_size = 0.7, random_state = 1)\n",
        "\n",
        "x_train = np.array(x_train)\n",
        "x_test = np.array(x_test)\n",
        "\n",
        "y_train = np.array(y_train)\n",
        "y_test = np.array(y_test)"
      ],
      "metadata": {
        "id": "fWdHF_qrOMRz"
      },
      "execution_count": null,
      "outputs": []
    },
    {
      "cell_type": "code",
      "source": [
        "print(x_train.shape)\n",
        "print(x_test.shape)"
      ],
      "metadata": {
        "colab": {
          "base_uri": "https://localhost:8080/"
        },
        "id": "3srUbfaDO8XL",
        "outputId": "1cbd8fbb-5d4e-403e-8598-b950cdc975c9"
      },
      "execution_count": null,
      "outputs": [
        {
          "output_type": "stream",
          "name": "stdout",
          "text": [
            "(273, 512, 512, 1)\n",
            "(118, 512, 512, 1)\n"
          ]
        }
      ]
    },
    {
      "cell_type": "markdown",
      "source": [
        "# **U-Net Segmentation using CNN model**"
      ],
      "metadata": {
        "id": "J2gVx-nlXpaw"
      }
    },
    {
      "cell_type": "code",
      "source": [
        "img_size = 512\n",
        "inputs = Input((img_size, img_size, 1))\n",
        "\n",
        "conv1 = Conv2D(64, 3, activation='relu', kernel_initializer='he_normal', padding='same')(inputs)\n",
        "conv1 = Conv2D(64, 3, activation='relu', kernel_initializer='he_normal', padding='same')(conv1)\n",
        "pool1 = MaxPooling2D(2, 2)(conv1)\n",
        "\n",
        "conv2 = Conv2D(128, 3, activation='relu', kernel_initializer='he_normal', padding='same')(pool1)\n",
        "conv2 = Conv2D(128, 3, activation='relu', kernel_initializer='he_normal', padding='same')(conv2)\n",
        "pool2 = MaxPooling2D(2, 2)(conv2)\n",
        "\n",
        "conv3 = Conv2D(256, 3, activation='relu', kernel_initializer='he_normal', padding='same')(pool2)\n",
        "conv3 = Conv2D(256, 3, activation='relu', kernel_initializer='he_normal', padding='same')(conv3)\n",
        "pool3 = MaxPooling2D(2, 2)(conv3)\n",
        "\n",
        "conv4 = Conv2D(512, 3, activation='relu', kernel_initializer='he_normal', padding='same')(pool3)\n",
        "conv4 = Conv2D(512, 3, activation='relu', kernel_initializer='he_normal', padding='same')(conv4)\n",
        "pool4 = MaxPooling2D(2, 2)(conv4)\n",
        "\n",
        "conv5 = Conv2D(1024, 3, activation='relu', kernel_initializer='he_normal', padding='same')(pool4)\n",
        "conv5 = Conv2D(1024, 3, activation='relu', kernel_initializer='he_normal', padding='same')(conv5)\n",
        "dropout5 = Dropout(0.5)(conv5)\n",
        "\n",
        "up6 = Conv2D(512, 2, activation='relu', kernel_initializer='he_normal', padding='same')(UpSampling2D(size=(2, 2))(dropout5))\n",
        "merge6 = concatenate([conv4, up6], axis=3)\n",
        "conv6 = Conv2D(512, 3, activation='relu', kernel_initializer='he_normal', padding='same')(merge6)\n",
        "conv6 = Conv2D(512, 3, activation='relu', kernel_initializer='he_normal', padding='same')(conv6)\n",
        "\n",
        "up7 = Conv2D(256, 2, activation='relu', kernel_initializer='he_normal', padding='same')(UpSampling2D(size=(2, 2))(conv6))\n",
        "merge7 = concatenate([conv3, up7], axis=3)\n",
        "conv7 = Conv2D(256, 3, activation='relu', kernel_initializer='he_normal', padding='same')(merge7)\n",
        "conv7 = Conv2D(256, 3, activation='relu', kernel_initializer='he_normal', padding='same')(conv7)\n",
        "\n",
        "up8 = Conv2D(128, 2, activation='relu', kernel_initializer='he_normal', padding='same')(UpSampling2D(size=(2, 2))(conv7))\n",
        "merge8 = concatenate([conv2, up8], axis=3)\n",
        "conv8 = Conv2D(128, 3, activation='relu', kernel_initializer='he_normal', padding='same')(merge8)\n",
        "conv8 = Conv2D(128, 3, activation='relu', padding='same')(conv8)\n",
        "\n",
        "up9 = Conv2D(64, 2, activation='relu', kernel_initializer='he_normal', padding='same')(UpSampling2D(size=(2, 2))(conv8))\n",
        "merge9 = concatenate([conv1, up9], axis=3)\n",
        "conv9 = Conv2D(64, 3, activation='relu', kernel_initializer='he_normal', padding='same')(merge9)\n",
        "conv9 = Conv2D(64, 3, activation='relu', kernel_initializer='he_normal', padding='same')(conv9)\n",
        "\n",
        "conv9 = Conv2D(2, 3, activation='relu', kernel_initializer='he_normal', padding='same')(conv9)\n",
        "conv10 = Conv2D(1, 1, activation='sigmoid')(conv9)\n",
        "\n",
        "model = Model(inputs=inputs, outputs=conv10)\n",
        "\n",
        "model.compile(optimizer=Adam(learning_rate=1e-4),\n",
        "              loss='binary_crossentropy',\n",
        "              metrics=['accuracy'])\n",
        "\n",
        "model.summary()"
      ],
      "metadata": {
        "colab": {
          "base_uri": "https://localhost:8080/"
        },
        "id": "U4FlRChyPAlz",
        "outputId": "0df15a4b-bf6c-46d9-8ff5-f2633daa0a2c"
      },
      "execution_count": null,
      "outputs": [
        {
          "output_type": "stream",
          "name": "stdout",
          "text": [
            "Model: \"model\"\n",
            "__________________________________________________________________________________________________\n",
            " Layer (type)                   Output Shape         Param #     Connected to                     \n",
            "==================================================================================================\n",
            " input_2 (InputLayer)           [(None, 512, 512, 1  0           []                               \n",
            "                                )]                                                                \n",
            "                                                                                                  \n",
            " conv2d_24 (Conv2D)             (None, 512, 512, 64  640         ['input_2[0][0]']                \n",
            "                                )                                                                 \n",
            "                                                                                                  \n",
            " conv2d_25 (Conv2D)             (None, 512, 512, 64  36928       ['conv2d_24[0][0]']              \n",
            "                                )                                                                 \n",
            "                                                                                                  \n",
            " max_pooling2d_4 (MaxPooling2D)  (None, 256, 256, 64  0          ['conv2d_25[0][0]']              \n",
            "                                )                                                                 \n",
            "                                                                                                  \n",
            " conv2d_26 (Conv2D)             (None, 256, 256, 12  73856       ['max_pooling2d_4[0][0]']        \n",
            "                                8)                                                                \n",
            "                                                                                                  \n",
            " conv2d_27 (Conv2D)             (None, 256, 256, 12  147584      ['conv2d_26[0][0]']              \n",
            "                                8)                                                                \n",
            "                                                                                                  \n",
            " max_pooling2d_5 (MaxPooling2D)  (None, 128, 128, 12  0          ['conv2d_27[0][0]']              \n",
            "                                8)                                                                \n",
            "                                                                                                  \n",
            " conv2d_28 (Conv2D)             (None, 128, 128, 25  295168      ['max_pooling2d_5[0][0]']        \n",
            "                                6)                                                                \n",
            "                                                                                                  \n",
            " conv2d_29 (Conv2D)             (None, 128, 128, 25  590080      ['conv2d_28[0][0]']              \n",
            "                                6)                                                                \n",
            "                                                                                                  \n",
            " max_pooling2d_6 (MaxPooling2D)  (None, 64, 64, 256)  0          ['conv2d_29[0][0]']              \n",
            "                                                                                                  \n",
            " conv2d_30 (Conv2D)             (None, 64, 64, 512)  1180160     ['max_pooling2d_6[0][0]']        \n",
            "                                                                                                  \n",
            " conv2d_31 (Conv2D)             (None, 64, 64, 512)  2359808     ['conv2d_30[0][0]']              \n",
            "                                                                                                  \n",
            " max_pooling2d_7 (MaxPooling2D)  (None, 32, 32, 512)  0          ['conv2d_31[0][0]']              \n",
            "                                                                                                  \n",
            " conv2d_32 (Conv2D)             (None, 32, 32, 1024  4719616     ['max_pooling2d_7[0][0]']        \n",
            "                                )                                                                 \n",
            "                                                                                                  \n",
            " conv2d_33 (Conv2D)             (None, 32, 32, 1024  9438208     ['conv2d_32[0][0]']              \n",
            "                                )                                                                 \n",
            "                                                                                                  \n",
            " dropout_1 (Dropout)            (None, 32, 32, 1024  0           ['conv2d_33[0][0]']              \n",
            "                                )                                                                 \n",
            "                                                                                                  \n",
            " up_sampling2d_4 (UpSampling2D)  (None, 64, 64, 1024  0          ['dropout_1[0][0]']              \n",
            "                                )                                                                 \n",
            "                                                                                                  \n",
            " conv2d_34 (Conv2D)             (None, 64, 64, 512)  2097664     ['up_sampling2d_4[0][0]']        \n",
            "                                                                                                  \n",
            " concatenate_4 (Concatenate)    (None, 64, 64, 1024  0           ['conv2d_31[0][0]',              \n",
            "                                )                                 'conv2d_34[0][0]']              \n",
            "                                                                                                  \n",
            " conv2d_35 (Conv2D)             (None, 64, 64, 512)  4719104     ['concatenate_4[0][0]']          \n",
            "                                                                                                  \n",
            " conv2d_36 (Conv2D)             (None, 64, 64, 512)  2359808     ['conv2d_35[0][0]']              \n",
            "                                                                                                  \n",
            " up_sampling2d_5 (UpSampling2D)  (None, 128, 128, 51  0          ['conv2d_36[0][0]']              \n",
            "                                2)                                                                \n",
            "                                                                                                  \n",
            " conv2d_37 (Conv2D)             (None, 128, 128, 25  524544      ['up_sampling2d_5[0][0]']        \n",
            "                                6)                                                                \n",
            "                                                                                                  \n",
            " concatenate_5 (Concatenate)    (None, 128, 128, 51  0           ['conv2d_29[0][0]',              \n",
            "                                2)                                'conv2d_37[0][0]']              \n",
            "                                                                                                  \n",
            " conv2d_38 (Conv2D)             (None, 128, 128, 25  1179904     ['concatenate_5[0][0]']          \n",
            "                                6)                                                                \n",
            "                                                                                                  \n",
            " conv2d_39 (Conv2D)             (None, 128, 128, 25  590080      ['conv2d_38[0][0]']              \n",
            "                                6)                                                                \n",
            "                                                                                                  \n",
            " up_sampling2d_6 (UpSampling2D)  (None, 256, 256, 25  0          ['conv2d_39[0][0]']              \n",
            "                                6)                                                                \n",
            "                                                                                                  \n",
            " conv2d_40 (Conv2D)             (None, 256, 256, 12  131200      ['up_sampling2d_6[0][0]']        \n",
            "                                8)                                                                \n",
            "                                                                                                  \n",
            " concatenate_6 (Concatenate)    (None, 256, 256, 25  0           ['conv2d_27[0][0]',              \n",
            "                                6)                                'conv2d_40[0][0]']              \n",
            "                                                                                                  \n",
            " conv2d_41 (Conv2D)             (None, 256, 256, 12  295040      ['concatenate_6[0][0]']          \n",
            "                                8)                                                                \n",
            "                                                                                                  \n",
            " conv2d_42 (Conv2D)             (None, 256, 256, 12  147584      ['conv2d_41[0][0]']              \n",
            "                                8)                                                                \n",
            "                                                                                                  \n",
            " up_sampling2d_7 (UpSampling2D)  (None, 512, 512, 12  0          ['conv2d_42[0][0]']              \n",
            "                                8)                                                                \n",
            "                                                                                                  \n",
            " conv2d_43 (Conv2D)             (None, 512, 512, 64  32832       ['up_sampling2d_7[0][0]']        \n",
            "                                )                                                                 \n",
            "                                                                                                  \n",
            " concatenate_7 (Concatenate)    (None, 512, 512, 12  0           ['conv2d_25[0][0]',              \n",
            "                                8)                                'conv2d_43[0][0]']              \n",
            "                                                                                                  \n",
            " conv2d_44 (Conv2D)             (None, 512, 512, 64  73792       ['concatenate_7[0][0]']          \n",
            "                                )                                                                 \n",
            "                                                                                                  \n",
            " conv2d_45 (Conv2D)             (None, 512, 512, 64  36928       ['conv2d_44[0][0]']              \n",
            "                                )                                                                 \n",
            "                                                                                                  \n",
            " conv2d_46 (Conv2D)             (None, 512, 512, 2)  1154        ['conv2d_45[0][0]']              \n",
            "                                                                                                  \n",
            " conv2d_47 (Conv2D)             (None, 512, 512, 1)  3           ['conv2d_46[0][0]']              \n",
            "                                                                                                  \n",
            "==================================================================================================\n",
            "Total params: 31,031,685\n",
            "Trainable params: 31,031,685\n",
            "Non-trainable params: 0\n",
            "__________________________________________________________________________________________________\n"
          ]
        }
      ]
    },
    {
      "cell_type": "markdown",
      "source": [
        "# **Train the model**"
      ],
      "metadata": {
        "id": "x8VQLuuBYFIo"
      }
    },
    {
      "cell_type": "code",
      "source": [
        "model.fit(x_train,y_train,\n",
        "                    epochs=6,\n",
        "                    steps_per_epoch= 500,\n",
        "                    validation_data=(x_test, y_test),\n",
        "                    validation_steps= 400,\n",
        "                    shuffle=1)"
      ],
      "metadata": {
        "id": "zremFcH0Q-9b"
      },
      "execution_count": null,
      "outputs": []
    },
    {
      "cell_type": "code",
      "source": [
        "model.save('/content/drive/MyDrive/model/bounding_ktp01.h5')"
      ],
      "metadata": {
        "id": "ROhAaCXMazbX"
      },
      "execution_count": null,
      "outputs": []
    },
    {
      "cell_type": "code",
      "source": [
        "model = load_model('/content/drive/MyDrive/model/bounding_ktp01.h5')"
      ],
      "metadata": {
        "id": "nARxrzsXay2y"
      },
      "execution_count": null,
      "outputs": []
    },
    {
      "cell_type": "markdown",
      "source": [
        "# **Predict**"
      ],
      "metadata": {
        "id": "b8cf2w3saYSb"
      }
    },
    {
      "cell_type": "code",
      "source": [
        "#predict\n",
        "\n",
        "file_test ='/content/ktp01.jpg'\n",
        "img=cv2.imread(file_test,0)\n",
        "ret,img=cv2.threshold(img,150,255,cv2.THRESH_BINARY_INV)\n",
        "img=cv2.resize(img,(512,512))\n",
        "img=np.expand_dims(img,axis=-1)\n",
        "img=img/255\n",
        "\n",
        "img=np.expand_dims(img,axis=0)\n",
        "pred=model.predict(img)\n",
        "pred=np.squeeze(np.squeeze(pred,axis=0),axis=-1)\n",
        "plt.imshow(pred,cmap='gray')\n",
        "plt.imsave('/content/test_img_mask.png',pred)\n",
        "\n",
        "img = cv2.imread('/content/test_img_mask.png',0) \n",
        "print(img.shape)\n",
        "cv2.threshold(img,0,255,cv2.THRESH_BINARY+cv2.THRESH_OTSU,img)\n",
        "ori_img = cv2.imread(file_test)\n",
        "ori_img = cv2.cvtColor(ori_img, cv2.COLOR_BGR2RGB)\n",
        "ori_img = cv2.resize(ori_img, (512,512))\n",
        "\n",
        "roi_img = []\n",
        "\n",
        "roi_number = 0\n",
        "contours, hier = cv2.findContours(img, cv2.RETR_EXTERNAL,cv2.CHAIN_APPROX_NONE)\n",
        "contours = sorted(contours, key = lambda x: cv2.boundingRect(x)[0] + cv2.boundingRect(x)[1] * img.shape[1])\n",
        "for c in contours:\n",
        "    # bounding rect\n",
        "    x, y, w, h = cv2.boundingRect(c)\n",
        "    if w > 40:\n",
        "    # create a rectangle to visualize the bounding rect\n",
        "      cv2.rectangle(ori_img, (x, y), (x + w, y + h), (36,255,12), 2)\n",
        "      ROI = ori_img[y:y+h, x:x+w]\n",
        "      roi_img.append(ROI)\n",
        "      # cv2.imwrite('/content/test_{}.png'.format(roi_number), ROI)\n",
        "      roi_number += 1\n",
        "\n",
        "    #cv2.drawContours(img, contours, -1, (255, 255, 0), 1)\n",
        "\n",
        "plt.imshow(ori_img)\n",
        "plt.show()\n",
        "     "
      ],
      "metadata": {
        "id": "k8rIsZKTbdCU"
      },
      "execution_count": null,
      "outputs": []
    }
  ]
}